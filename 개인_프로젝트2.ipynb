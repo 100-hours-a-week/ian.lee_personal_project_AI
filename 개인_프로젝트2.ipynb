{
  "nbformat": 4,
  "nbformat_minor": 0,
  "metadata": {
    "colab": {
      "provenance": [],
      "machine_shape": "hm",
      "gpuType": "A100",
      "collapsed_sections": [
        "WasqcStAz8Ow"
      ]
    },
    "kernelspec": {
      "name": "python3",
      "display_name": "Python 3"
    },
    "language_info": {
      "name": "python"
    },
    "accelerator": "GPU",
    "widgets": {
      "application/vnd.jupyter.widget-state+json": {
        "bdc29bbdb7194fa380d01fa32f83b1f3": {
          "model_module": "@jupyter-widgets/controls",
          "model_name": "HBoxModel",
          "model_module_version": "1.5.0",
          "state": {
            "_dom_classes": [],
            "_model_module": "@jupyter-widgets/controls",
            "_model_module_version": "1.5.0",
            "_model_name": "HBoxModel",
            "_view_count": null,
            "_view_module": "@jupyter-widgets/controls",
            "_view_module_version": "1.5.0",
            "_view_name": "HBoxView",
            "box_style": "",
            "children": [
              "IPY_MODEL_897089a1c0c847bf801eafbd5b2813a7",
              "IPY_MODEL_5fdf3189d7d34bafb1e019b9371f4359",
              "IPY_MODEL_df8b784c67d1429ba527aa89e0f2f07f"
            ],
            "layout": "IPY_MODEL_8ab2ad7ca63e47d6a6137c33b9342449"
          }
        },
        "897089a1c0c847bf801eafbd5b2813a7": {
          "model_module": "@jupyter-widgets/controls",
          "model_name": "HTMLModel",
          "model_module_version": "1.5.0",
          "state": {
            "_dom_classes": [],
            "_model_module": "@jupyter-widgets/controls",
            "_model_module_version": "1.5.0",
            "_model_name": "HTMLModel",
            "_view_count": null,
            "_view_module": "@jupyter-widgets/controls",
            "_view_module_version": "1.5.0",
            "_view_name": "HTMLView",
            "description": "",
            "description_tooltip": null,
            "layout": "IPY_MODEL_0e1aa50318374325b0a52f6388ca76a6",
            "placeholder": "​",
            "style": "IPY_MODEL_b0d27040341148308fb967dcc8c6c908",
            "value": "100%"
          }
        },
        "5fdf3189d7d34bafb1e019b9371f4359": {
          "model_module": "@jupyter-widgets/controls",
          "model_name": "FloatProgressModel",
          "model_module_version": "1.5.0",
          "state": {
            "_dom_classes": [],
            "_model_module": "@jupyter-widgets/controls",
            "_model_module_version": "1.5.0",
            "_model_name": "FloatProgressModel",
            "_view_count": null,
            "_view_module": "@jupyter-widgets/controls",
            "_view_module_version": "1.5.0",
            "_view_name": "ProgressView",
            "bar_style": "success",
            "description": "",
            "description_tooltip": null,
            "layout": "IPY_MODEL_0437d7bed1f14c818a1555492d2d3a39",
            "max": 10,
            "min": 0,
            "orientation": "horizontal",
            "style": "IPY_MODEL_7fc34f684a4b4b99a0639dfbeb330245",
            "value": 10
          }
        },
        "df8b784c67d1429ba527aa89e0f2f07f": {
          "model_module": "@jupyter-widgets/controls",
          "model_name": "HTMLModel",
          "model_module_version": "1.5.0",
          "state": {
            "_dom_classes": [],
            "_model_module": "@jupyter-widgets/controls",
            "_model_module_version": "1.5.0",
            "_model_name": "HTMLModel",
            "_view_count": null,
            "_view_module": "@jupyter-widgets/controls",
            "_view_module_version": "1.5.0",
            "_view_name": "HTMLView",
            "description": "",
            "description_tooltip": null,
            "layout": "IPY_MODEL_6333189abd8e4f5ca742bc7ea2ac0a7e",
            "placeholder": "​",
            "style": "IPY_MODEL_81f61d3b19e2435ab9870581e43e0d28",
            "value": " 10/10 [27:41&lt;00:00, 165.36s/it]"
          }
        },
        "8ab2ad7ca63e47d6a6137c33b9342449": {
          "model_module": "@jupyter-widgets/base",
          "model_name": "LayoutModel",
          "model_module_version": "1.2.0",
          "state": {
            "_model_module": "@jupyter-widgets/base",
            "_model_module_version": "1.2.0",
            "_model_name": "LayoutModel",
            "_view_count": null,
            "_view_module": "@jupyter-widgets/base",
            "_view_module_version": "1.2.0",
            "_view_name": "LayoutView",
            "align_content": null,
            "align_items": null,
            "align_self": null,
            "border": null,
            "bottom": null,
            "display": null,
            "flex": null,
            "flex_flow": null,
            "grid_area": null,
            "grid_auto_columns": null,
            "grid_auto_flow": null,
            "grid_auto_rows": null,
            "grid_column": null,
            "grid_gap": null,
            "grid_row": null,
            "grid_template_areas": null,
            "grid_template_columns": null,
            "grid_template_rows": null,
            "height": null,
            "justify_content": null,
            "justify_items": null,
            "left": null,
            "margin": null,
            "max_height": null,
            "max_width": null,
            "min_height": null,
            "min_width": null,
            "object_fit": null,
            "object_position": null,
            "order": null,
            "overflow": null,
            "overflow_x": null,
            "overflow_y": null,
            "padding": null,
            "right": null,
            "top": null,
            "visibility": null,
            "width": null
          }
        },
        "0e1aa50318374325b0a52f6388ca76a6": {
          "model_module": "@jupyter-widgets/base",
          "model_name": "LayoutModel",
          "model_module_version": "1.2.0",
          "state": {
            "_model_module": "@jupyter-widgets/base",
            "_model_module_version": "1.2.0",
            "_model_name": "LayoutModel",
            "_view_count": null,
            "_view_module": "@jupyter-widgets/base",
            "_view_module_version": "1.2.0",
            "_view_name": "LayoutView",
            "align_content": null,
            "align_items": null,
            "align_self": null,
            "border": null,
            "bottom": null,
            "display": null,
            "flex": null,
            "flex_flow": null,
            "grid_area": null,
            "grid_auto_columns": null,
            "grid_auto_flow": null,
            "grid_auto_rows": null,
            "grid_column": null,
            "grid_gap": null,
            "grid_row": null,
            "grid_template_areas": null,
            "grid_template_columns": null,
            "grid_template_rows": null,
            "height": null,
            "justify_content": null,
            "justify_items": null,
            "left": null,
            "margin": null,
            "max_height": null,
            "max_width": null,
            "min_height": null,
            "min_width": null,
            "object_fit": null,
            "object_position": null,
            "order": null,
            "overflow": null,
            "overflow_x": null,
            "overflow_y": null,
            "padding": null,
            "right": null,
            "top": null,
            "visibility": null,
            "width": null
          }
        },
        "b0d27040341148308fb967dcc8c6c908": {
          "model_module": "@jupyter-widgets/controls",
          "model_name": "DescriptionStyleModel",
          "model_module_version": "1.5.0",
          "state": {
            "_model_module": "@jupyter-widgets/controls",
            "_model_module_version": "1.5.0",
            "_model_name": "DescriptionStyleModel",
            "_view_count": null,
            "_view_module": "@jupyter-widgets/base",
            "_view_module_version": "1.2.0",
            "_view_name": "StyleView",
            "description_width": ""
          }
        },
        "0437d7bed1f14c818a1555492d2d3a39": {
          "model_module": "@jupyter-widgets/base",
          "model_name": "LayoutModel",
          "model_module_version": "1.2.0",
          "state": {
            "_model_module": "@jupyter-widgets/base",
            "_model_module_version": "1.2.0",
            "_model_name": "LayoutModel",
            "_view_count": null,
            "_view_module": "@jupyter-widgets/base",
            "_view_module_version": "1.2.0",
            "_view_name": "LayoutView",
            "align_content": null,
            "align_items": null,
            "align_self": null,
            "border": null,
            "bottom": null,
            "display": null,
            "flex": null,
            "flex_flow": null,
            "grid_area": null,
            "grid_auto_columns": null,
            "grid_auto_flow": null,
            "grid_auto_rows": null,
            "grid_column": null,
            "grid_gap": null,
            "grid_row": null,
            "grid_template_areas": null,
            "grid_template_columns": null,
            "grid_template_rows": null,
            "height": null,
            "justify_content": null,
            "justify_items": null,
            "left": null,
            "margin": null,
            "max_height": null,
            "max_width": null,
            "min_height": null,
            "min_width": null,
            "object_fit": null,
            "object_position": null,
            "order": null,
            "overflow": null,
            "overflow_x": null,
            "overflow_y": null,
            "padding": null,
            "right": null,
            "top": null,
            "visibility": null,
            "width": null
          }
        },
        "7fc34f684a4b4b99a0639dfbeb330245": {
          "model_module": "@jupyter-widgets/controls",
          "model_name": "ProgressStyleModel",
          "model_module_version": "1.5.0",
          "state": {
            "_model_module": "@jupyter-widgets/controls",
            "_model_module_version": "1.5.0",
            "_model_name": "ProgressStyleModel",
            "_view_count": null,
            "_view_module": "@jupyter-widgets/base",
            "_view_module_version": "1.2.0",
            "_view_name": "StyleView",
            "bar_color": null,
            "description_width": ""
          }
        },
        "6333189abd8e4f5ca742bc7ea2ac0a7e": {
          "model_module": "@jupyter-widgets/base",
          "model_name": "LayoutModel",
          "model_module_version": "1.2.0",
          "state": {
            "_model_module": "@jupyter-widgets/base",
            "_model_module_version": "1.2.0",
            "_model_name": "LayoutModel",
            "_view_count": null,
            "_view_module": "@jupyter-widgets/base",
            "_view_module_version": "1.2.0",
            "_view_name": "LayoutView",
            "align_content": null,
            "align_items": null,
            "align_self": null,
            "border": null,
            "bottom": null,
            "display": null,
            "flex": null,
            "flex_flow": null,
            "grid_area": null,
            "grid_auto_columns": null,
            "grid_auto_flow": null,
            "grid_auto_rows": null,
            "grid_column": null,
            "grid_gap": null,
            "grid_row": null,
            "grid_template_areas": null,
            "grid_template_columns": null,
            "grid_template_rows": null,
            "height": null,
            "justify_content": null,
            "justify_items": null,
            "left": null,
            "margin": null,
            "max_height": null,
            "max_width": null,
            "min_height": null,
            "min_width": null,
            "object_fit": null,
            "object_position": null,
            "order": null,
            "overflow": null,
            "overflow_x": null,
            "overflow_y": null,
            "padding": null,
            "right": null,
            "top": null,
            "visibility": null,
            "width": null
          }
        },
        "81f61d3b19e2435ab9870581e43e0d28": {
          "model_module": "@jupyter-widgets/controls",
          "model_name": "DescriptionStyleModel",
          "model_module_version": "1.5.0",
          "state": {
            "_model_module": "@jupyter-widgets/controls",
            "_model_module_version": "1.5.0",
            "_model_name": "DescriptionStyleModel",
            "_view_count": null,
            "_view_module": "@jupyter-widgets/base",
            "_view_module_version": "1.2.0",
            "_view_name": "StyleView",
            "description_width": ""
          }
        },
        "d29910d700df43419ee0289eb82c465b": {
          "model_module": "@jupyter-widgets/controls",
          "model_name": "HBoxModel",
          "model_module_version": "1.5.0",
          "state": {
            "_dom_classes": [],
            "_model_module": "@jupyter-widgets/controls",
            "_model_module_version": "1.5.0",
            "_model_name": "HBoxModel",
            "_view_count": null,
            "_view_module": "@jupyter-widgets/controls",
            "_view_module_version": "1.5.0",
            "_view_name": "HBoxView",
            "box_style": "",
            "children": [
              "IPY_MODEL_9a3d5d6bf7d945f7863a23fbd322c539",
              "IPY_MODEL_67c11713d1414c149436bc26dfd1187b",
              "IPY_MODEL_afff89bcffdd45e8af281d978a3e461f"
            ],
            "layout": "IPY_MODEL_ee9c89c9f5d64491a6ae586b20e0cbfe"
          }
        },
        "9a3d5d6bf7d945f7863a23fbd322c539": {
          "model_module": "@jupyter-widgets/controls",
          "model_name": "HTMLModel",
          "model_module_version": "1.5.0",
          "state": {
            "_dom_classes": [],
            "_model_module": "@jupyter-widgets/controls",
            "_model_module_version": "1.5.0",
            "_model_name": "HTMLModel",
            "_view_count": null,
            "_view_module": "@jupyter-widgets/controls",
            "_view_module_version": "1.5.0",
            "_view_name": "HTMLView",
            "description": "",
            "description_tooltip": null,
            "layout": "IPY_MODEL_56c932718b3242eb99642fc98cd06d9e",
            "placeholder": "​",
            "style": "IPY_MODEL_d72b5b763ba740babf96c65a008a863b",
            "value": "100%"
          }
        },
        "67c11713d1414c149436bc26dfd1187b": {
          "model_module": "@jupyter-widgets/controls",
          "model_name": "FloatProgressModel",
          "model_module_version": "1.5.0",
          "state": {
            "_dom_classes": [],
            "_model_module": "@jupyter-widgets/controls",
            "_model_module_version": "1.5.0",
            "_model_name": "FloatProgressModel",
            "_view_count": null,
            "_view_module": "@jupyter-widgets/controls",
            "_view_module_version": "1.5.0",
            "_view_name": "ProgressView",
            "bar_style": "success",
            "description": "",
            "description_tooltip": null,
            "layout": "IPY_MODEL_92197d216780497fa115496c628b23d4",
            "max": 10,
            "min": 0,
            "orientation": "horizontal",
            "style": "IPY_MODEL_9af2b53837264050940d78b11bad2b62",
            "value": 10
          }
        },
        "afff89bcffdd45e8af281d978a3e461f": {
          "model_module": "@jupyter-widgets/controls",
          "model_name": "HTMLModel",
          "model_module_version": "1.5.0",
          "state": {
            "_dom_classes": [],
            "_model_module": "@jupyter-widgets/controls",
            "_model_module_version": "1.5.0",
            "_model_name": "HTMLModel",
            "_view_count": null,
            "_view_module": "@jupyter-widgets/controls",
            "_view_module_version": "1.5.0",
            "_view_name": "HTMLView",
            "description": "",
            "description_tooltip": null,
            "layout": "IPY_MODEL_129745f70c144578be869de4cfe94630",
            "placeholder": "​",
            "style": "IPY_MODEL_41472fe59347433caf66149324272a0c",
            "value": " 10/10 [25:46&lt;00:00, 154.67s/it]"
          }
        },
        "ee9c89c9f5d64491a6ae586b20e0cbfe": {
          "model_module": "@jupyter-widgets/base",
          "model_name": "LayoutModel",
          "model_module_version": "1.2.0",
          "state": {
            "_model_module": "@jupyter-widgets/base",
            "_model_module_version": "1.2.0",
            "_model_name": "LayoutModel",
            "_view_count": null,
            "_view_module": "@jupyter-widgets/base",
            "_view_module_version": "1.2.0",
            "_view_name": "LayoutView",
            "align_content": null,
            "align_items": null,
            "align_self": null,
            "border": null,
            "bottom": null,
            "display": null,
            "flex": null,
            "flex_flow": null,
            "grid_area": null,
            "grid_auto_columns": null,
            "grid_auto_flow": null,
            "grid_auto_rows": null,
            "grid_column": null,
            "grid_gap": null,
            "grid_row": null,
            "grid_template_areas": null,
            "grid_template_columns": null,
            "grid_template_rows": null,
            "height": null,
            "justify_content": null,
            "justify_items": null,
            "left": null,
            "margin": null,
            "max_height": null,
            "max_width": null,
            "min_height": null,
            "min_width": null,
            "object_fit": null,
            "object_position": null,
            "order": null,
            "overflow": null,
            "overflow_x": null,
            "overflow_y": null,
            "padding": null,
            "right": null,
            "top": null,
            "visibility": null,
            "width": null
          }
        },
        "56c932718b3242eb99642fc98cd06d9e": {
          "model_module": "@jupyter-widgets/base",
          "model_name": "LayoutModel",
          "model_module_version": "1.2.0",
          "state": {
            "_model_module": "@jupyter-widgets/base",
            "_model_module_version": "1.2.0",
            "_model_name": "LayoutModel",
            "_view_count": null,
            "_view_module": "@jupyter-widgets/base",
            "_view_module_version": "1.2.0",
            "_view_name": "LayoutView",
            "align_content": null,
            "align_items": null,
            "align_self": null,
            "border": null,
            "bottom": null,
            "display": null,
            "flex": null,
            "flex_flow": null,
            "grid_area": null,
            "grid_auto_columns": null,
            "grid_auto_flow": null,
            "grid_auto_rows": null,
            "grid_column": null,
            "grid_gap": null,
            "grid_row": null,
            "grid_template_areas": null,
            "grid_template_columns": null,
            "grid_template_rows": null,
            "height": null,
            "justify_content": null,
            "justify_items": null,
            "left": null,
            "margin": null,
            "max_height": null,
            "max_width": null,
            "min_height": null,
            "min_width": null,
            "object_fit": null,
            "object_position": null,
            "order": null,
            "overflow": null,
            "overflow_x": null,
            "overflow_y": null,
            "padding": null,
            "right": null,
            "top": null,
            "visibility": null,
            "width": null
          }
        },
        "d72b5b763ba740babf96c65a008a863b": {
          "model_module": "@jupyter-widgets/controls",
          "model_name": "DescriptionStyleModel",
          "model_module_version": "1.5.0",
          "state": {
            "_model_module": "@jupyter-widgets/controls",
            "_model_module_version": "1.5.0",
            "_model_name": "DescriptionStyleModel",
            "_view_count": null,
            "_view_module": "@jupyter-widgets/base",
            "_view_module_version": "1.2.0",
            "_view_name": "StyleView",
            "description_width": ""
          }
        },
        "92197d216780497fa115496c628b23d4": {
          "model_module": "@jupyter-widgets/base",
          "model_name": "LayoutModel",
          "model_module_version": "1.2.0",
          "state": {
            "_model_module": "@jupyter-widgets/base",
            "_model_module_version": "1.2.0",
            "_model_name": "LayoutModel",
            "_view_count": null,
            "_view_module": "@jupyter-widgets/base",
            "_view_module_version": "1.2.0",
            "_view_name": "LayoutView",
            "align_content": null,
            "align_items": null,
            "align_self": null,
            "border": null,
            "bottom": null,
            "display": null,
            "flex": null,
            "flex_flow": null,
            "grid_area": null,
            "grid_auto_columns": null,
            "grid_auto_flow": null,
            "grid_auto_rows": null,
            "grid_column": null,
            "grid_gap": null,
            "grid_row": null,
            "grid_template_areas": null,
            "grid_template_columns": null,
            "grid_template_rows": null,
            "height": null,
            "justify_content": null,
            "justify_items": null,
            "left": null,
            "margin": null,
            "max_height": null,
            "max_width": null,
            "min_height": null,
            "min_width": null,
            "object_fit": null,
            "object_position": null,
            "order": null,
            "overflow": null,
            "overflow_x": null,
            "overflow_y": null,
            "padding": null,
            "right": null,
            "top": null,
            "visibility": null,
            "width": null
          }
        },
        "9af2b53837264050940d78b11bad2b62": {
          "model_module": "@jupyter-widgets/controls",
          "model_name": "ProgressStyleModel",
          "model_module_version": "1.5.0",
          "state": {
            "_model_module": "@jupyter-widgets/controls",
            "_model_module_version": "1.5.0",
            "_model_name": "ProgressStyleModel",
            "_view_count": null,
            "_view_module": "@jupyter-widgets/base",
            "_view_module_version": "1.2.0",
            "_view_name": "StyleView",
            "bar_color": null,
            "description_width": ""
          }
        },
        "129745f70c144578be869de4cfe94630": {
          "model_module": "@jupyter-widgets/base",
          "model_name": "LayoutModel",
          "model_module_version": "1.2.0",
          "state": {
            "_model_module": "@jupyter-widgets/base",
            "_model_module_version": "1.2.0",
            "_model_name": "LayoutModel",
            "_view_count": null,
            "_view_module": "@jupyter-widgets/base",
            "_view_module_version": "1.2.0",
            "_view_name": "LayoutView",
            "align_content": null,
            "align_items": null,
            "align_self": null,
            "border": null,
            "bottom": null,
            "display": null,
            "flex": null,
            "flex_flow": null,
            "grid_area": null,
            "grid_auto_columns": null,
            "grid_auto_flow": null,
            "grid_auto_rows": null,
            "grid_column": null,
            "grid_gap": null,
            "grid_row": null,
            "grid_template_areas": null,
            "grid_template_columns": null,
            "grid_template_rows": null,
            "height": null,
            "justify_content": null,
            "justify_items": null,
            "left": null,
            "margin": null,
            "max_height": null,
            "max_width": null,
            "min_height": null,
            "min_width": null,
            "object_fit": null,
            "object_position": null,
            "order": null,
            "overflow": null,
            "overflow_x": null,
            "overflow_y": null,
            "padding": null,
            "right": null,
            "top": null,
            "visibility": null,
            "width": null
          }
        },
        "41472fe59347433caf66149324272a0c": {
          "model_module": "@jupyter-widgets/controls",
          "model_name": "DescriptionStyleModel",
          "model_module_version": "1.5.0",
          "state": {
            "_model_module": "@jupyter-widgets/controls",
            "_model_module_version": "1.5.0",
            "_model_name": "DescriptionStyleModel",
            "_view_count": null,
            "_view_module": "@jupyter-widgets/base",
            "_view_module_version": "1.2.0",
            "_view_name": "StyleView",
            "description_width": ""
          }
        },
        "83441f3ea989439d96cccda30e66b122": {
          "model_module": "@jupyter-widgets/controls",
          "model_name": "HBoxModel",
          "model_module_version": "1.5.0",
          "state": {
            "_dom_classes": [],
            "_model_module": "@jupyter-widgets/controls",
            "_model_module_version": "1.5.0",
            "_model_name": "HBoxModel",
            "_view_count": null,
            "_view_module": "@jupyter-widgets/controls",
            "_view_module_version": "1.5.0",
            "_view_name": "HBoxView",
            "box_style": "",
            "children": [
              "IPY_MODEL_4180ba1099314b60ac0f11a6f44a5388",
              "IPY_MODEL_c4ce894183164732b138e255082b8f27",
              "IPY_MODEL_66041a98269f44b3878f564c1d0eb911"
            ],
            "layout": "IPY_MODEL_05ed7a45bb6e4b5495e56ad15e2234ec"
          }
        },
        "4180ba1099314b60ac0f11a6f44a5388": {
          "model_module": "@jupyter-widgets/controls",
          "model_name": "HTMLModel",
          "model_module_version": "1.5.0",
          "state": {
            "_dom_classes": [],
            "_model_module": "@jupyter-widgets/controls",
            "_model_module_version": "1.5.0",
            "_model_name": "HTMLModel",
            "_view_count": null,
            "_view_module": "@jupyter-widgets/controls",
            "_view_module_version": "1.5.0",
            "_view_name": "HTMLView",
            "description": "",
            "description_tooltip": null,
            "layout": "IPY_MODEL_5682b988cba548599686d96093303556",
            "placeholder": "​",
            "style": "IPY_MODEL_a6b2083383ec4d8d8419417dfb9ed3aa",
            "value": "100%"
          }
        },
        "c4ce894183164732b138e255082b8f27": {
          "model_module": "@jupyter-widgets/controls",
          "model_name": "FloatProgressModel",
          "model_module_version": "1.5.0",
          "state": {
            "_dom_classes": [],
            "_model_module": "@jupyter-widgets/controls",
            "_model_module_version": "1.5.0",
            "_model_name": "FloatProgressModel",
            "_view_count": null,
            "_view_module": "@jupyter-widgets/controls",
            "_view_module_version": "1.5.0",
            "_view_name": "ProgressView",
            "bar_style": "success",
            "description": "",
            "description_tooltip": null,
            "layout": "IPY_MODEL_36ba77ea85db4fec8b2e05550550de5e",
            "max": 10,
            "min": 0,
            "orientation": "horizontal",
            "style": "IPY_MODEL_8277c5196d234a6eb99d6cf43e8514c3",
            "value": 10
          }
        },
        "66041a98269f44b3878f564c1d0eb911": {
          "model_module": "@jupyter-widgets/controls",
          "model_name": "HTMLModel",
          "model_module_version": "1.5.0",
          "state": {
            "_dom_classes": [],
            "_model_module": "@jupyter-widgets/controls",
            "_model_module_version": "1.5.0",
            "_model_name": "HTMLModel",
            "_view_count": null,
            "_view_module": "@jupyter-widgets/controls",
            "_view_module_version": "1.5.0",
            "_view_name": "HTMLView",
            "description": "",
            "description_tooltip": null,
            "layout": "IPY_MODEL_2e6898ac5dd24712ba94e9fbd083abbc",
            "placeholder": "​",
            "style": "IPY_MODEL_636b975a03164b9eb6b14fe66583833a",
            "value": " 10/10 [28:39&lt;00:00, 171.72s/it]"
          }
        },
        "05ed7a45bb6e4b5495e56ad15e2234ec": {
          "model_module": "@jupyter-widgets/base",
          "model_name": "LayoutModel",
          "model_module_version": "1.2.0",
          "state": {
            "_model_module": "@jupyter-widgets/base",
            "_model_module_version": "1.2.0",
            "_model_name": "LayoutModel",
            "_view_count": null,
            "_view_module": "@jupyter-widgets/base",
            "_view_module_version": "1.2.0",
            "_view_name": "LayoutView",
            "align_content": null,
            "align_items": null,
            "align_self": null,
            "border": null,
            "bottom": null,
            "display": null,
            "flex": null,
            "flex_flow": null,
            "grid_area": null,
            "grid_auto_columns": null,
            "grid_auto_flow": null,
            "grid_auto_rows": null,
            "grid_column": null,
            "grid_gap": null,
            "grid_row": null,
            "grid_template_areas": null,
            "grid_template_columns": null,
            "grid_template_rows": null,
            "height": null,
            "justify_content": null,
            "justify_items": null,
            "left": null,
            "margin": null,
            "max_height": null,
            "max_width": null,
            "min_height": null,
            "min_width": null,
            "object_fit": null,
            "object_position": null,
            "order": null,
            "overflow": null,
            "overflow_x": null,
            "overflow_y": null,
            "padding": null,
            "right": null,
            "top": null,
            "visibility": null,
            "width": null
          }
        },
        "5682b988cba548599686d96093303556": {
          "model_module": "@jupyter-widgets/base",
          "model_name": "LayoutModel",
          "model_module_version": "1.2.0",
          "state": {
            "_model_module": "@jupyter-widgets/base",
            "_model_module_version": "1.2.0",
            "_model_name": "LayoutModel",
            "_view_count": null,
            "_view_module": "@jupyter-widgets/base",
            "_view_module_version": "1.2.0",
            "_view_name": "LayoutView",
            "align_content": null,
            "align_items": null,
            "align_self": null,
            "border": null,
            "bottom": null,
            "display": null,
            "flex": null,
            "flex_flow": null,
            "grid_area": null,
            "grid_auto_columns": null,
            "grid_auto_flow": null,
            "grid_auto_rows": null,
            "grid_column": null,
            "grid_gap": null,
            "grid_row": null,
            "grid_template_areas": null,
            "grid_template_columns": null,
            "grid_template_rows": null,
            "height": null,
            "justify_content": null,
            "justify_items": null,
            "left": null,
            "margin": null,
            "max_height": null,
            "max_width": null,
            "min_height": null,
            "min_width": null,
            "object_fit": null,
            "object_position": null,
            "order": null,
            "overflow": null,
            "overflow_x": null,
            "overflow_y": null,
            "padding": null,
            "right": null,
            "top": null,
            "visibility": null,
            "width": null
          }
        },
        "a6b2083383ec4d8d8419417dfb9ed3aa": {
          "model_module": "@jupyter-widgets/controls",
          "model_name": "DescriptionStyleModel",
          "model_module_version": "1.5.0",
          "state": {
            "_model_module": "@jupyter-widgets/controls",
            "_model_module_version": "1.5.0",
            "_model_name": "DescriptionStyleModel",
            "_view_count": null,
            "_view_module": "@jupyter-widgets/base",
            "_view_module_version": "1.2.0",
            "_view_name": "StyleView",
            "description_width": ""
          }
        },
        "36ba77ea85db4fec8b2e05550550de5e": {
          "model_module": "@jupyter-widgets/base",
          "model_name": "LayoutModel",
          "model_module_version": "1.2.0",
          "state": {
            "_model_module": "@jupyter-widgets/base",
            "_model_module_version": "1.2.0",
            "_model_name": "LayoutModel",
            "_view_count": null,
            "_view_module": "@jupyter-widgets/base",
            "_view_module_version": "1.2.0",
            "_view_name": "LayoutView",
            "align_content": null,
            "align_items": null,
            "align_self": null,
            "border": null,
            "bottom": null,
            "display": null,
            "flex": null,
            "flex_flow": null,
            "grid_area": null,
            "grid_auto_columns": null,
            "grid_auto_flow": null,
            "grid_auto_rows": null,
            "grid_column": null,
            "grid_gap": null,
            "grid_row": null,
            "grid_template_areas": null,
            "grid_template_columns": null,
            "grid_template_rows": null,
            "height": null,
            "justify_content": null,
            "justify_items": null,
            "left": null,
            "margin": null,
            "max_height": null,
            "max_width": null,
            "min_height": null,
            "min_width": null,
            "object_fit": null,
            "object_position": null,
            "order": null,
            "overflow": null,
            "overflow_x": null,
            "overflow_y": null,
            "padding": null,
            "right": null,
            "top": null,
            "visibility": null,
            "width": null
          }
        },
        "8277c5196d234a6eb99d6cf43e8514c3": {
          "model_module": "@jupyter-widgets/controls",
          "model_name": "ProgressStyleModel",
          "model_module_version": "1.5.0",
          "state": {
            "_model_module": "@jupyter-widgets/controls",
            "_model_module_version": "1.5.0",
            "_model_name": "ProgressStyleModel",
            "_view_count": null,
            "_view_module": "@jupyter-widgets/base",
            "_view_module_version": "1.2.0",
            "_view_name": "StyleView",
            "bar_color": null,
            "description_width": ""
          }
        },
        "2e6898ac5dd24712ba94e9fbd083abbc": {
          "model_module": "@jupyter-widgets/base",
          "model_name": "LayoutModel",
          "model_module_version": "1.2.0",
          "state": {
            "_model_module": "@jupyter-widgets/base",
            "_model_module_version": "1.2.0",
            "_model_name": "LayoutModel",
            "_view_count": null,
            "_view_module": "@jupyter-widgets/base",
            "_view_module_version": "1.2.0",
            "_view_name": "LayoutView",
            "align_content": null,
            "align_items": null,
            "align_self": null,
            "border": null,
            "bottom": null,
            "display": null,
            "flex": null,
            "flex_flow": null,
            "grid_area": null,
            "grid_auto_columns": null,
            "grid_auto_flow": null,
            "grid_auto_rows": null,
            "grid_column": null,
            "grid_gap": null,
            "grid_row": null,
            "grid_template_areas": null,
            "grid_template_columns": null,
            "grid_template_rows": null,
            "height": null,
            "justify_content": null,
            "justify_items": null,
            "left": null,
            "margin": null,
            "max_height": null,
            "max_width": null,
            "min_height": null,
            "min_width": null,
            "object_fit": null,
            "object_position": null,
            "order": null,
            "overflow": null,
            "overflow_x": null,
            "overflow_y": null,
            "padding": null,
            "right": null,
            "top": null,
            "visibility": null,
            "width": null
          }
        },
        "636b975a03164b9eb6b14fe66583833a": {
          "model_module": "@jupyter-widgets/controls",
          "model_name": "DescriptionStyleModel",
          "model_module_version": "1.5.0",
          "state": {
            "_model_module": "@jupyter-widgets/controls",
            "_model_module_version": "1.5.0",
            "_model_name": "DescriptionStyleModel",
            "_view_count": null,
            "_view_module": "@jupyter-widgets/base",
            "_view_module_version": "1.2.0",
            "_view_name": "StyleView",
            "description_width": ""
          }
        },
        "aafea19b774f41f1b72b8d684ae5dd5b": {
          "model_module": "@jupyter-widgets/controls",
          "model_name": "HBoxModel",
          "model_module_version": "1.5.0",
          "state": {
            "_dom_classes": [],
            "_model_module": "@jupyter-widgets/controls",
            "_model_module_version": "1.5.0",
            "_model_name": "HBoxModel",
            "_view_count": null,
            "_view_module": "@jupyter-widgets/controls",
            "_view_module_version": "1.5.0",
            "_view_name": "HBoxView",
            "box_style": "",
            "children": [
              "IPY_MODEL_cbc688c33cec472c89e0784c39eed822",
              "IPY_MODEL_f08f91479c6945d7a84244ef63280005",
              "IPY_MODEL_7ad8650d778f4f16a6c10d544b63d00f"
            ],
            "layout": "IPY_MODEL_f5384467f8124c18ad7be60ea0c84273"
          }
        },
        "cbc688c33cec472c89e0784c39eed822": {
          "model_module": "@jupyter-widgets/controls",
          "model_name": "HTMLModel",
          "model_module_version": "1.5.0",
          "state": {
            "_dom_classes": [],
            "_model_module": "@jupyter-widgets/controls",
            "_model_module_version": "1.5.0",
            "_model_name": "HTMLModel",
            "_view_count": null,
            "_view_module": "@jupyter-widgets/controls",
            "_view_module_version": "1.5.0",
            "_view_name": "HTMLView",
            "description": "",
            "description_tooltip": null,
            "layout": "IPY_MODEL_7efc9e98c578404d9e81a2ac237f8d44",
            "placeholder": "​",
            "style": "IPY_MODEL_ba4683d0860a44d3876a4c7c0e1b1ca2",
            "value": "100%"
          }
        },
        "f08f91479c6945d7a84244ef63280005": {
          "model_module": "@jupyter-widgets/controls",
          "model_name": "FloatProgressModel",
          "model_module_version": "1.5.0",
          "state": {
            "_dom_classes": [],
            "_model_module": "@jupyter-widgets/controls",
            "_model_module_version": "1.5.0",
            "_model_name": "FloatProgressModel",
            "_view_count": null,
            "_view_module": "@jupyter-widgets/controls",
            "_view_module_version": "1.5.0",
            "_view_name": "ProgressView",
            "bar_style": "success",
            "description": "",
            "description_tooltip": null,
            "layout": "IPY_MODEL_3523c2e8c0284139a7e1cbb418e8b270",
            "max": 10,
            "min": 0,
            "orientation": "horizontal",
            "style": "IPY_MODEL_e0a09cdbd7ae4370b9a8416313cbec4d",
            "value": 10
          }
        },
        "7ad8650d778f4f16a6c10d544b63d00f": {
          "model_module": "@jupyter-widgets/controls",
          "model_name": "HTMLModel",
          "model_module_version": "1.5.0",
          "state": {
            "_dom_classes": [],
            "_model_module": "@jupyter-widgets/controls",
            "_model_module_version": "1.5.0",
            "_model_name": "HTMLModel",
            "_view_count": null,
            "_view_module": "@jupyter-widgets/controls",
            "_view_module_version": "1.5.0",
            "_view_name": "HTMLView",
            "description": "",
            "description_tooltip": null,
            "layout": "IPY_MODEL_ac5ae4fdd5e04ca79888b1a8c4f32ef3",
            "placeholder": "​",
            "style": "IPY_MODEL_b36adbb826d145a584d34e111f4541b9",
            "value": " 10/10 [28:13&lt;00:00, 168.94s/it]"
          }
        },
        "f5384467f8124c18ad7be60ea0c84273": {
          "model_module": "@jupyter-widgets/base",
          "model_name": "LayoutModel",
          "model_module_version": "1.2.0",
          "state": {
            "_model_module": "@jupyter-widgets/base",
            "_model_module_version": "1.2.0",
            "_model_name": "LayoutModel",
            "_view_count": null,
            "_view_module": "@jupyter-widgets/base",
            "_view_module_version": "1.2.0",
            "_view_name": "LayoutView",
            "align_content": null,
            "align_items": null,
            "align_self": null,
            "border": null,
            "bottom": null,
            "display": null,
            "flex": null,
            "flex_flow": null,
            "grid_area": null,
            "grid_auto_columns": null,
            "grid_auto_flow": null,
            "grid_auto_rows": null,
            "grid_column": null,
            "grid_gap": null,
            "grid_row": null,
            "grid_template_areas": null,
            "grid_template_columns": null,
            "grid_template_rows": null,
            "height": null,
            "justify_content": null,
            "justify_items": null,
            "left": null,
            "margin": null,
            "max_height": null,
            "max_width": null,
            "min_height": null,
            "min_width": null,
            "object_fit": null,
            "object_position": null,
            "order": null,
            "overflow": null,
            "overflow_x": null,
            "overflow_y": null,
            "padding": null,
            "right": null,
            "top": null,
            "visibility": null,
            "width": null
          }
        },
        "7efc9e98c578404d9e81a2ac237f8d44": {
          "model_module": "@jupyter-widgets/base",
          "model_name": "LayoutModel",
          "model_module_version": "1.2.0",
          "state": {
            "_model_module": "@jupyter-widgets/base",
            "_model_module_version": "1.2.0",
            "_model_name": "LayoutModel",
            "_view_count": null,
            "_view_module": "@jupyter-widgets/base",
            "_view_module_version": "1.2.0",
            "_view_name": "LayoutView",
            "align_content": null,
            "align_items": null,
            "align_self": null,
            "border": null,
            "bottom": null,
            "display": null,
            "flex": null,
            "flex_flow": null,
            "grid_area": null,
            "grid_auto_columns": null,
            "grid_auto_flow": null,
            "grid_auto_rows": null,
            "grid_column": null,
            "grid_gap": null,
            "grid_row": null,
            "grid_template_areas": null,
            "grid_template_columns": null,
            "grid_template_rows": null,
            "height": null,
            "justify_content": null,
            "justify_items": null,
            "left": null,
            "margin": null,
            "max_height": null,
            "max_width": null,
            "min_height": null,
            "min_width": null,
            "object_fit": null,
            "object_position": null,
            "order": null,
            "overflow": null,
            "overflow_x": null,
            "overflow_y": null,
            "padding": null,
            "right": null,
            "top": null,
            "visibility": null,
            "width": null
          }
        },
        "ba4683d0860a44d3876a4c7c0e1b1ca2": {
          "model_module": "@jupyter-widgets/controls",
          "model_name": "DescriptionStyleModel",
          "model_module_version": "1.5.0",
          "state": {
            "_model_module": "@jupyter-widgets/controls",
            "_model_module_version": "1.5.0",
            "_model_name": "DescriptionStyleModel",
            "_view_count": null,
            "_view_module": "@jupyter-widgets/base",
            "_view_module_version": "1.2.0",
            "_view_name": "StyleView",
            "description_width": ""
          }
        },
        "3523c2e8c0284139a7e1cbb418e8b270": {
          "model_module": "@jupyter-widgets/base",
          "model_name": "LayoutModel",
          "model_module_version": "1.2.0",
          "state": {
            "_model_module": "@jupyter-widgets/base",
            "_model_module_version": "1.2.0",
            "_model_name": "LayoutModel",
            "_view_count": null,
            "_view_module": "@jupyter-widgets/base",
            "_view_module_version": "1.2.0",
            "_view_name": "LayoutView",
            "align_content": null,
            "align_items": null,
            "align_self": null,
            "border": null,
            "bottom": null,
            "display": null,
            "flex": null,
            "flex_flow": null,
            "grid_area": null,
            "grid_auto_columns": null,
            "grid_auto_flow": null,
            "grid_auto_rows": null,
            "grid_column": null,
            "grid_gap": null,
            "grid_row": null,
            "grid_template_areas": null,
            "grid_template_columns": null,
            "grid_template_rows": null,
            "height": null,
            "justify_content": null,
            "justify_items": null,
            "left": null,
            "margin": null,
            "max_height": null,
            "max_width": null,
            "min_height": null,
            "min_width": null,
            "object_fit": null,
            "object_position": null,
            "order": null,
            "overflow": null,
            "overflow_x": null,
            "overflow_y": null,
            "padding": null,
            "right": null,
            "top": null,
            "visibility": null,
            "width": null
          }
        },
        "e0a09cdbd7ae4370b9a8416313cbec4d": {
          "model_module": "@jupyter-widgets/controls",
          "model_name": "ProgressStyleModel",
          "model_module_version": "1.5.0",
          "state": {
            "_model_module": "@jupyter-widgets/controls",
            "_model_module_version": "1.5.0",
            "_model_name": "ProgressStyleModel",
            "_view_count": null,
            "_view_module": "@jupyter-widgets/base",
            "_view_module_version": "1.2.0",
            "_view_name": "StyleView",
            "bar_color": null,
            "description_width": ""
          }
        },
        "ac5ae4fdd5e04ca79888b1a8c4f32ef3": {
          "model_module": "@jupyter-widgets/base",
          "model_name": "LayoutModel",
          "model_module_version": "1.2.0",
          "state": {
            "_model_module": "@jupyter-widgets/base",
            "_model_module_version": "1.2.0",
            "_model_name": "LayoutModel",
            "_view_count": null,
            "_view_module": "@jupyter-widgets/base",
            "_view_module_version": "1.2.0",
            "_view_name": "LayoutView",
            "align_content": null,
            "align_items": null,
            "align_self": null,
            "border": null,
            "bottom": null,
            "display": null,
            "flex": null,
            "flex_flow": null,
            "grid_area": null,
            "grid_auto_columns": null,
            "grid_auto_flow": null,
            "grid_auto_rows": null,
            "grid_column": null,
            "grid_gap": null,
            "grid_row": null,
            "grid_template_areas": null,
            "grid_template_columns": null,
            "grid_template_rows": null,
            "height": null,
            "justify_content": null,
            "justify_items": null,
            "left": null,
            "margin": null,
            "max_height": null,
            "max_width": null,
            "min_height": null,
            "min_width": null,
            "object_fit": null,
            "object_position": null,
            "order": null,
            "overflow": null,
            "overflow_x": null,
            "overflow_y": null,
            "padding": null,
            "right": null,
            "top": null,
            "visibility": null,
            "width": null
          }
        },
        "b36adbb826d145a584d34e111f4541b9": {
          "model_module": "@jupyter-widgets/controls",
          "model_name": "DescriptionStyleModel",
          "model_module_version": "1.5.0",
          "state": {
            "_model_module": "@jupyter-widgets/controls",
            "_model_module_version": "1.5.0",
            "_model_name": "DescriptionStyleModel",
            "_view_count": null,
            "_view_module": "@jupyter-widgets/base",
            "_view_module_version": "1.2.0",
            "_view_name": "StyleView",
            "description_width": ""
          }
        },
        "73578e2f94314f069a4e90851be6270a": {
          "model_module": "@jupyter-widgets/controls",
          "model_name": "HBoxModel",
          "model_module_version": "1.5.0",
          "state": {
            "_dom_classes": [],
            "_model_module": "@jupyter-widgets/controls",
            "_model_module_version": "1.5.0",
            "_model_name": "HBoxModel",
            "_view_count": null,
            "_view_module": "@jupyter-widgets/controls",
            "_view_module_version": "1.5.0",
            "_view_name": "HBoxView",
            "box_style": "",
            "children": [
              "IPY_MODEL_c00674f9263f4848b5cfa63ded47de70",
              "IPY_MODEL_32da9124a4d8474db0504601e8ef73ff",
              "IPY_MODEL_a9cb74e59e0b4724906b21839cc6b736"
            ],
            "layout": "IPY_MODEL_ca3b915dab6a48229de63dbad8455f44"
          }
        },
        "c00674f9263f4848b5cfa63ded47de70": {
          "model_module": "@jupyter-widgets/controls",
          "model_name": "HTMLModel",
          "model_module_version": "1.5.0",
          "state": {
            "_dom_classes": [],
            "_model_module": "@jupyter-widgets/controls",
            "_model_module_version": "1.5.0",
            "_model_name": "HTMLModel",
            "_view_count": null,
            "_view_module": "@jupyter-widgets/controls",
            "_view_module_version": "1.5.0",
            "_view_name": "HTMLView",
            "description": "",
            "description_tooltip": null,
            "layout": "IPY_MODEL_2fc8107663104c558461ed136980d580",
            "placeholder": "​",
            "style": "IPY_MODEL_99e661db225d415aa7c47d4f4c821cf8",
            "value": "100%"
          }
        },
        "32da9124a4d8474db0504601e8ef73ff": {
          "model_module": "@jupyter-widgets/controls",
          "model_name": "FloatProgressModel",
          "model_module_version": "1.5.0",
          "state": {
            "_dom_classes": [],
            "_model_module": "@jupyter-widgets/controls",
            "_model_module_version": "1.5.0",
            "_model_name": "FloatProgressModel",
            "_view_count": null,
            "_view_module": "@jupyter-widgets/controls",
            "_view_module_version": "1.5.0",
            "_view_name": "ProgressView",
            "bar_style": "success",
            "description": "",
            "description_tooltip": null,
            "layout": "IPY_MODEL_55260963ac7b4c86a2385e7c7a93524d",
            "max": 10,
            "min": 0,
            "orientation": "horizontal",
            "style": "IPY_MODEL_395a1c96a0f649e899b7296474f3cd9f",
            "value": 10
          }
        },
        "a9cb74e59e0b4724906b21839cc6b736": {
          "model_module": "@jupyter-widgets/controls",
          "model_name": "HTMLModel",
          "model_module_version": "1.5.0",
          "state": {
            "_dom_classes": [],
            "_model_module": "@jupyter-widgets/controls",
            "_model_module_version": "1.5.0",
            "_model_name": "HTMLModel",
            "_view_count": null,
            "_view_module": "@jupyter-widgets/controls",
            "_view_module_version": "1.5.0",
            "_view_name": "HTMLView",
            "description": "",
            "description_tooltip": null,
            "layout": "IPY_MODEL_6db7d8e26c2f4450a16b833421d90448",
            "placeholder": "​",
            "style": "IPY_MODEL_e9ba38410da24a8aaf44f131ef2fc373",
            "value": " 10/10 [42:21&lt;00:00, 253.85s/it]"
          }
        },
        "ca3b915dab6a48229de63dbad8455f44": {
          "model_module": "@jupyter-widgets/base",
          "model_name": "LayoutModel",
          "model_module_version": "1.2.0",
          "state": {
            "_model_module": "@jupyter-widgets/base",
            "_model_module_version": "1.2.0",
            "_model_name": "LayoutModel",
            "_view_count": null,
            "_view_module": "@jupyter-widgets/base",
            "_view_module_version": "1.2.0",
            "_view_name": "LayoutView",
            "align_content": null,
            "align_items": null,
            "align_self": null,
            "border": null,
            "bottom": null,
            "display": null,
            "flex": null,
            "flex_flow": null,
            "grid_area": null,
            "grid_auto_columns": null,
            "grid_auto_flow": null,
            "grid_auto_rows": null,
            "grid_column": null,
            "grid_gap": null,
            "grid_row": null,
            "grid_template_areas": null,
            "grid_template_columns": null,
            "grid_template_rows": null,
            "height": null,
            "justify_content": null,
            "justify_items": null,
            "left": null,
            "margin": null,
            "max_height": null,
            "max_width": null,
            "min_height": null,
            "min_width": null,
            "object_fit": null,
            "object_position": null,
            "order": null,
            "overflow": null,
            "overflow_x": null,
            "overflow_y": null,
            "padding": null,
            "right": null,
            "top": null,
            "visibility": null,
            "width": null
          }
        },
        "2fc8107663104c558461ed136980d580": {
          "model_module": "@jupyter-widgets/base",
          "model_name": "LayoutModel",
          "model_module_version": "1.2.0",
          "state": {
            "_model_module": "@jupyter-widgets/base",
            "_model_module_version": "1.2.0",
            "_model_name": "LayoutModel",
            "_view_count": null,
            "_view_module": "@jupyter-widgets/base",
            "_view_module_version": "1.2.0",
            "_view_name": "LayoutView",
            "align_content": null,
            "align_items": null,
            "align_self": null,
            "border": null,
            "bottom": null,
            "display": null,
            "flex": null,
            "flex_flow": null,
            "grid_area": null,
            "grid_auto_columns": null,
            "grid_auto_flow": null,
            "grid_auto_rows": null,
            "grid_column": null,
            "grid_gap": null,
            "grid_row": null,
            "grid_template_areas": null,
            "grid_template_columns": null,
            "grid_template_rows": null,
            "height": null,
            "justify_content": null,
            "justify_items": null,
            "left": null,
            "margin": null,
            "max_height": null,
            "max_width": null,
            "min_height": null,
            "min_width": null,
            "object_fit": null,
            "object_position": null,
            "order": null,
            "overflow": null,
            "overflow_x": null,
            "overflow_y": null,
            "padding": null,
            "right": null,
            "top": null,
            "visibility": null,
            "width": null
          }
        },
        "99e661db225d415aa7c47d4f4c821cf8": {
          "model_module": "@jupyter-widgets/controls",
          "model_name": "DescriptionStyleModel",
          "model_module_version": "1.5.0",
          "state": {
            "_model_module": "@jupyter-widgets/controls",
            "_model_module_version": "1.5.0",
            "_model_name": "DescriptionStyleModel",
            "_view_count": null,
            "_view_module": "@jupyter-widgets/base",
            "_view_module_version": "1.2.0",
            "_view_name": "StyleView",
            "description_width": ""
          }
        },
        "55260963ac7b4c86a2385e7c7a93524d": {
          "model_module": "@jupyter-widgets/base",
          "model_name": "LayoutModel",
          "model_module_version": "1.2.0",
          "state": {
            "_model_module": "@jupyter-widgets/base",
            "_model_module_version": "1.2.0",
            "_model_name": "LayoutModel",
            "_view_count": null,
            "_view_module": "@jupyter-widgets/base",
            "_view_module_version": "1.2.0",
            "_view_name": "LayoutView",
            "align_content": null,
            "align_items": null,
            "align_self": null,
            "border": null,
            "bottom": null,
            "display": null,
            "flex": null,
            "flex_flow": null,
            "grid_area": null,
            "grid_auto_columns": null,
            "grid_auto_flow": null,
            "grid_auto_rows": null,
            "grid_column": null,
            "grid_gap": null,
            "grid_row": null,
            "grid_template_areas": null,
            "grid_template_columns": null,
            "grid_template_rows": null,
            "height": null,
            "justify_content": null,
            "justify_items": null,
            "left": null,
            "margin": null,
            "max_height": null,
            "max_width": null,
            "min_height": null,
            "min_width": null,
            "object_fit": null,
            "object_position": null,
            "order": null,
            "overflow": null,
            "overflow_x": null,
            "overflow_y": null,
            "padding": null,
            "right": null,
            "top": null,
            "visibility": null,
            "width": null
          }
        },
        "395a1c96a0f649e899b7296474f3cd9f": {
          "model_module": "@jupyter-widgets/controls",
          "model_name": "ProgressStyleModel",
          "model_module_version": "1.5.0",
          "state": {
            "_model_module": "@jupyter-widgets/controls",
            "_model_module_version": "1.5.0",
            "_model_name": "ProgressStyleModel",
            "_view_count": null,
            "_view_module": "@jupyter-widgets/base",
            "_view_module_version": "1.2.0",
            "_view_name": "StyleView",
            "bar_color": null,
            "description_width": ""
          }
        },
        "6db7d8e26c2f4450a16b833421d90448": {
          "model_module": "@jupyter-widgets/base",
          "model_name": "LayoutModel",
          "model_module_version": "1.2.0",
          "state": {
            "_model_module": "@jupyter-widgets/base",
            "_model_module_version": "1.2.0",
            "_model_name": "LayoutModel",
            "_view_count": null,
            "_view_module": "@jupyter-widgets/base",
            "_view_module_version": "1.2.0",
            "_view_name": "LayoutView",
            "align_content": null,
            "align_items": null,
            "align_self": null,
            "border": null,
            "bottom": null,
            "display": null,
            "flex": null,
            "flex_flow": null,
            "grid_area": null,
            "grid_auto_columns": null,
            "grid_auto_flow": null,
            "grid_auto_rows": null,
            "grid_column": null,
            "grid_gap": null,
            "grid_row": null,
            "grid_template_areas": null,
            "grid_template_columns": null,
            "grid_template_rows": null,
            "height": null,
            "justify_content": null,
            "justify_items": null,
            "left": null,
            "margin": null,
            "max_height": null,
            "max_width": null,
            "min_height": null,
            "min_width": null,
            "object_fit": null,
            "object_position": null,
            "order": null,
            "overflow": null,
            "overflow_x": null,
            "overflow_y": null,
            "padding": null,
            "right": null,
            "top": null,
            "visibility": null,
            "width": null
          }
        },
        "e9ba38410da24a8aaf44f131ef2fc373": {
          "model_module": "@jupyter-widgets/controls",
          "model_name": "DescriptionStyleModel",
          "model_module_version": "1.5.0",
          "state": {
            "_model_module": "@jupyter-widgets/controls",
            "_model_module_version": "1.5.0",
            "_model_name": "DescriptionStyleModel",
            "_view_count": null,
            "_view_module": "@jupyter-widgets/base",
            "_view_module_version": "1.2.0",
            "_view_name": "StyleView",
            "description_width": ""
          }
        },
        "9e122b9d00ac4f9da2c89d0cfc1b7b20": {
          "model_module": "@jupyter-widgets/controls",
          "model_name": "HBoxModel",
          "model_module_version": "1.5.0",
          "state": {
            "_dom_classes": [],
            "_model_module": "@jupyter-widgets/controls",
            "_model_module_version": "1.5.0",
            "_model_name": "HBoxModel",
            "_view_count": null,
            "_view_module": "@jupyter-widgets/controls",
            "_view_module_version": "1.5.0",
            "_view_name": "HBoxView",
            "box_style": "",
            "children": [
              "IPY_MODEL_a552e7075319461e8f30480b6593b837",
              "IPY_MODEL_ee5e65f976524a56a44f2b88f811b0b8",
              "IPY_MODEL_523499e7c50b45be9623fca6197a9a39"
            ],
            "layout": "IPY_MODEL_78ca032c20fe4e44bf3b33fb447c4bb0"
          }
        },
        "a552e7075319461e8f30480b6593b837": {
          "model_module": "@jupyter-widgets/controls",
          "model_name": "HTMLModel",
          "model_module_version": "1.5.0",
          "state": {
            "_dom_classes": [],
            "_model_module": "@jupyter-widgets/controls",
            "_model_module_version": "1.5.0",
            "_model_name": "HTMLModel",
            "_view_count": null,
            "_view_module": "@jupyter-widgets/controls",
            "_view_module_version": "1.5.0",
            "_view_name": "HTMLView",
            "description": "",
            "description_tooltip": null,
            "layout": "IPY_MODEL_f0b0388ec8f14cdc9cb9164b8809452c",
            "placeholder": "​",
            "style": "IPY_MODEL_7daccfb144ec4df4a905d8b02a8873d1",
            "value": "100%"
          }
        },
        "ee5e65f976524a56a44f2b88f811b0b8": {
          "model_module": "@jupyter-widgets/controls",
          "model_name": "FloatProgressModel",
          "model_module_version": "1.5.0",
          "state": {
            "_dom_classes": [],
            "_model_module": "@jupyter-widgets/controls",
            "_model_module_version": "1.5.0",
            "_model_name": "FloatProgressModel",
            "_view_count": null,
            "_view_module": "@jupyter-widgets/controls",
            "_view_module_version": "1.5.0",
            "_view_name": "ProgressView",
            "bar_style": "success",
            "description": "",
            "description_tooltip": null,
            "layout": "IPY_MODEL_024c0a19a8c84552a0cfbf8eb0044e46",
            "max": 10,
            "min": 0,
            "orientation": "horizontal",
            "style": "IPY_MODEL_7d38e7a89def4ec5a909a98e7259426a",
            "value": 10
          }
        },
        "523499e7c50b45be9623fca6197a9a39": {
          "model_module": "@jupyter-widgets/controls",
          "model_name": "HTMLModel",
          "model_module_version": "1.5.0",
          "state": {
            "_dom_classes": [],
            "_model_module": "@jupyter-widgets/controls",
            "_model_module_version": "1.5.0",
            "_model_name": "HTMLModel",
            "_view_count": null,
            "_view_module": "@jupyter-widgets/controls",
            "_view_module_version": "1.5.0",
            "_view_name": "HTMLView",
            "description": "",
            "description_tooltip": null,
            "layout": "IPY_MODEL_d3a2135eeaca42be8c8cc0069412eea3",
            "placeholder": "​",
            "style": "IPY_MODEL_d558ad8180c641fda28a20e50e6eccef",
            "value": " 10/10 [28:05&lt;00:00, 169.11s/it]"
          }
        },
        "78ca032c20fe4e44bf3b33fb447c4bb0": {
          "model_module": "@jupyter-widgets/base",
          "model_name": "LayoutModel",
          "model_module_version": "1.2.0",
          "state": {
            "_model_module": "@jupyter-widgets/base",
            "_model_module_version": "1.2.0",
            "_model_name": "LayoutModel",
            "_view_count": null,
            "_view_module": "@jupyter-widgets/base",
            "_view_module_version": "1.2.0",
            "_view_name": "LayoutView",
            "align_content": null,
            "align_items": null,
            "align_self": null,
            "border": null,
            "bottom": null,
            "display": null,
            "flex": null,
            "flex_flow": null,
            "grid_area": null,
            "grid_auto_columns": null,
            "grid_auto_flow": null,
            "grid_auto_rows": null,
            "grid_column": null,
            "grid_gap": null,
            "grid_row": null,
            "grid_template_areas": null,
            "grid_template_columns": null,
            "grid_template_rows": null,
            "height": null,
            "justify_content": null,
            "justify_items": null,
            "left": null,
            "margin": null,
            "max_height": null,
            "max_width": null,
            "min_height": null,
            "min_width": null,
            "object_fit": null,
            "object_position": null,
            "order": null,
            "overflow": null,
            "overflow_x": null,
            "overflow_y": null,
            "padding": null,
            "right": null,
            "top": null,
            "visibility": null,
            "width": null
          }
        },
        "f0b0388ec8f14cdc9cb9164b8809452c": {
          "model_module": "@jupyter-widgets/base",
          "model_name": "LayoutModel",
          "model_module_version": "1.2.0",
          "state": {
            "_model_module": "@jupyter-widgets/base",
            "_model_module_version": "1.2.0",
            "_model_name": "LayoutModel",
            "_view_count": null,
            "_view_module": "@jupyter-widgets/base",
            "_view_module_version": "1.2.0",
            "_view_name": "LayoutView",
            "align_content": null,
            "align_items": null,
            "align_self": null,
            "border": null,
            "bottom": null,
            "display": null,
            "flex": null,
            "flex_flow": null,
            "grid_area": null,
            "grid_auto_columns": null,
            "grid_auto_flow": null,
            "grid_auto_rows": null,
            "grid_column": null,
            "grid_gap": null,
            "grid_row": null,
            "grid_template_areas": null,
            "grid_template_columns": null,
            "grid_template_rows": null,
            "height": null,
            "justify_content": null,
            "justify_items": null,
            "left": null,
            "margin": null,
            "max_height": null,
            "max_width": null,
            "min_height": null,
            "min_width": null,
            "object_fit": null,
            "object_position": null,
            "order": null,
            "overflow": null,
            "overflow_x": null,
            "overflow_y": null,
            "padding": null,
            "right": null,
            "top": null,
            "visibility": null,
            "width": null
          }
        },
        "7daccfb144ec4df4a905d8b02a8873d1": {
          "model_module": "@jupyter-widgets/controls",
          "model_name": "DescriptionStyleModel",
          "model_module_version": "1.5.0",
          "state": {
            "_model_module": "@jupyter-widgets/controls",
            "_model_module_version": "1.5.0",
            "_model_name": "DescriptionStyleModel",
            "_view_count": null,
            "_view_module": "@jupyter-widgets/base",
            "_view_module_version": "1.2.0",
            "_view_name": "StyleView",
            "description_width": ""
          }
        },
        "024c0a19a8c84552a0cfbf8eb0044e46": {
          "model_module": "@jupyter-widgets/base",
          "model_name": "LayoutModel",
          "model_module_version": "1.2.0",
          "state": {
            "_model_module": "@jupyter-widgets/base",
            "_model_module_version": "1.2.0",
            "_model_name": "LayoutModel",
            "_view_count": null,
            "_view_module": "@jupyter-widgets/base",
            "_view_module_version": "1.2.0",
            "_view_name": "LayoutView",
            "align_content": null,
            "align_items": null,
            "align_self": null,
            "border": null,
            "bottom": null,
            "display": null,
            "flex": null,
            "flex_flow": null,
            "grid_area": null,
            "grid_auto_columns": null,
            "grid_auto_flow": null,
            "grid_auto_rows": null,
            "grid_column": null,
            "grid_gap": null,
            "grid_row": null,
            "grid_template_areas": null,
            "grid_template_columns": null,
            "grid_template_rows": null,
            "height": null,
            "justify_content": null,
            "justify_items": null,
            "left": null,
            "margin": null,
            "max_height": null,
            "max_width": null,
            "min_height": null,
            "min_width": null,
            "object_fit": null,
            "object_position": null,
            "order": null,
            "overflow": null,
            "overflow_x": null,
            "overflow_y": null,
            "padding": null,
            "right": null,
            "top": null,
            "visibility": null,
            "width": null
          }
        },
        "7d38e7a89def4ec5a909a98e7259426a": {
          "model_module": "@jupyter-widgets/controls",
          "model_name": "ProgressStyleModel",
          "model_module_version": "1.5.0",
          "state": {
            "_model_module": "@jupyter-widgets/controls",
            "_model_module_version": "1.5.0",
            "_model_name": "ProgressStyleModel",
            "_view_count": null,
            "_view_module": "@jupyter-widgets/base",
            "_view_module_version": "1.2.0",
            "_view_name": "StyleView",
            "bar_color": null,
            "description_width": ""
          }
        },
        "d3a2135eeaca42be8c8cc0069412eea3": {
          "model_module": "@jupyter-widgets/base",
          "model_name": "LayoutModel",
          "model_module_version": "1.2.0",
          "state": {
            "_model_module": "@jupyter-widgets/base",
            "_model_module_version": "1.2.0",
            "_model_name": "LayoutModel",
            "_view_count": null,
            "_view_module": "@jupyter-widgets/base",
            "_view_module_version": "1.2.0",
            "_view_name": "LayoutView",
            "align_content": null,
            "align_items": null,
            "align_self": null,
            "border": null,
            "bottom": null,
            "display": null,
            "flex": null,
            "flex_flow": null,
            "grid_area": null,
            "grid_auto_columns": null,
            "grid_auto_flow": null,
            "grid_auto_rows": null,
            "grid_column": null,
            "grid_gap": null,
            "grid_row": null,
            "grid_template_areas": null,
            "grid_template_columns": null,
            "grid_template_rows": null,
            "height": null,
            "justify_content": null,
            "justify_items": null,
            "left": null,
            "margin": null,
            "max_height": null,
            "max_width": null,
            "min_height": null,
            "min_width": null,
            "object_fit": null,
            "object_position": null,
            "order": null,
            "overflow": null,
            "overflow_x": null,
            "overflow_y": null,
            "padding": null,
            "right": null,
            "top": null,
            "visibility": null,
            "width": null
          }
        },
        "d558ad8180c641fda28a20e50e6eccef": {
          "model_module": "@jupyter-widgets/controls",
          "model_name": "DescriptionStyleModel",
          "model_module_version": "1.5.0",
          "state": {
            "_model_module": "@jupyter-widgets/controls",
            "_model_module_version": "1.5.0",
            "_model_name": "DescriptionStyleModel",
            "_view_count": null,
            "_view_module": "@jupyter-widgets/base",
            "_view_module_version": "1.2.0",
            "_view_name": "StyleView",
            "description_width": ""
          }
        }
      }
    }
  },
  "cells": [
    {
      "cell_type": "markdown",
      "source": [
        "# 기본 설정"
      ],
      "metadata": {
        "id": "WasqcStAz8Ow"
      }
    },
    {
      "cell_type": "code",
      "source": [
        "!pip install SQLAlchemy pymysql\n",
        "from google.colab import userdata\n",
        "\n",
        "from sqlalchemy import create_engine, text\n",
        "engine = create_engine(\"mysql+pymysql://user:password@공개IP/goyong\")\n",
        "\n",
        "\n",
        "\n",
        "# 접속 정보 설정\n",
        "user = 'root'               # Cloud SQL 사용자 이름\n",
        "password = userdata.get('DB')       # 비밀번호\n",
        "host = '34.47.81.137'           # 예: 34.64.xxx.xxx\n",
        "database = 'goyong'           # 사용할 DB 이름\n",
        "\n",
        "# SQLAlchemy 접속 URL 구성\n",
        "url = f\"mysql+pymysql://{user}:{password}@{host}/{database}\"\n",
        "engine = create_engine(url)\n"
      ],
      "metadata": {
        "colab": {
          "base_uri": "https://localhost:8080/"
        },
        "id": "rQ2OxId6504B",
        "outputId": "f2779c6d-344e-4429-8e06-30357a7050bf"
      },
      "execution_count": null,
      "outputs": [
        {
          "output_type": "stream",
          "name": "stdout",
          "text": [
            "Requirement already satisfied: SQLAlchemy in /usr/local/lib/python3.11/dist-packages (2.0.39)\n",
            "Collecting pymysql\n",
            "  Downloading PyMySQL-1.1.1-py3-none-any.whl.metadata (4.4 kB)\n",
            "Requirement already satisfied: greenlet!=0.4.17 in /usr/local/lib/python3.11/dist-packages (from SQLAlchemy) (3.1.1)\n",
            "Requirement already satisfied: typing-extensions>=4.6.0 in /usr/local/lib/python3.11/dist-packages (from SQLAlchemy) (4.12.2)\n",
            "Downloading PyMySQL-1.1.1-py3-none-any.whl (44 kB)\n",
            "\u001b[2K   \u001b[90m━━━━━━━━━━━━━━━━━━━━━━━━━━━━━━━━━━━━━━━━\u001b[0m \u001b[32m45.0/45.0 kB\u001b[0m \u001b[31m1.8 MB/s\u001b[0m eta \u001b[36m0:00:00\u001b[0m\n",
            "\u001b[?25hInstalling collected packages: pymysql\n",
            "Successfully installed pymysql-1.1.1\n"
          ]
        }
      ]
    },
    {
      "cell_type": "code",
      "source": [
        "import kagglehub\n",
        "\n",
        "path = kagglehub.dataset_download(\"muratkokludataset/rice-image-dataset\")\n",
        "path+='/Rice_Image_Dataset'\n",
        "print(\"Path to dataset files:\", path)"
      ],
      "metadata": {
        "colab": {
          "base_uri": "https://localhost:8080/"
        },
        "id": "jyHzc92Dd9Lu",
        "outputId": "c32a8099-1c67-4ae5-d3ea-370196448acf"
      },
      "execution_count": null,
      "outputs": [
        {
          "output_type": "stream",
          "name": "stdout",
          "text": [
            "Downloading from https://www.kaggle.com/api/v1/datasets/download/muratkokludataset/rice-image-dataset?dataset_version_number=1...\n"
          ]
        },
        {
          "output_type": "stream",
          "name": "stderr",
          "text": [
            "100%|██████████| 219M/219M [00:02<00:00, 111MB/s]"
          ]
        },
        {
          "output_type": "stream",
          "name": "stdout",
          "text": [
            "Extracting files...\n"
          ]
        },
        {
          "output_type": "stream",
          "name": "stderr",
          "text": [
            "\n"
          ]
        },
        {
          "output_type": "stream",
          "name": "stdout",
          "text": [
            "Path to dataset files: /root/.cache/kagglehub/datasets/muratkokludataset/rice-image-dataset/versions/1/Rice_Image_Dataset\n"
          ]
        }
      ]
    },
    {
      "cell_type": "code",
      "source": [
        "import torch\n",
        "from torch.utils.data import DataLoader\n",
        "from torch import nn\n",
        "from torchvision import transforms, datasets\n",
        "from torchvision.models import resnet50, ResNet50_Weights\n",
        "from torch.optim import Adam\n",
        "from torch.optim import AdamW\n",
        "from tqdm.auto import tqdm\n",
        "from timeit import default_timer as timer\n",
        "import os\n",
        "import copy"
      ],
      "metadata": {
        "id": "vQ2ResDoedje"
      },
      "execution_count": null,
      "outputs": []
    },
    {
      "cell_type": "code",
      "source": [
        "device = (\n",
        "    \"cuda\"\n",
        "    if torch.cuda.is_available()\n",
        "    else \"mps\"\n",
        "    if torch.backends.mps.is_available()\n",
        "    else \"cpu\"\n",
        ")\n",
        "print(f\"Using {device} device\")"
      ],
      "metadata": {
        "colab": {
          "base_uri": "https://localhost:8080/"
        },
        "id": "yby1Zrh5fhk8",
        "outputId": "97a6c4dd-ba96-47e4-b293-7e9d3f8e1455"
      },
      "execution_count": null,
      "outputs": [
        {
          "output_type": "stream",
          "name": "stdout",
          "text": [
            "Using cuda device\n"
          ]
        }
      ]
    },
    {
      "cell_type": "code",
      "source": [
        "\n",
        "!pip install split-folders"
      ],
      "metadata": {
        "colab": {
          "base_uri": "https://localhost:8080/"
        },
        "id": "DOPYhSKoeozj",
        "outputId": "9f412b5f-2b36-4163-dfde-b6f7c9326f6d"
      },
      "execution_count": null,
      "outputs": [
        {
          "output_type": "stream",
          "name": "stdout",
          "text": [
            "Collecting split-folders\n",
            "  Downloading split_folders-0.5.1-py3-none-any.whl.metadata (6.2 kB)\n",
            "Downloading split_folders-0.5.1-py3-none-any.whl (8.4 kB)\n",
            "Installing collected packages: split-folders\n",
            "Successfully installed split-folders-0.5.1\n"
          ]
        }
      ]
    },
    {
      "cell_type": "code",
      "source": [
        "from torch.utils.tensorboard import SummaryWriter\n",
        "\n",
        "# TensorBoard 로그 저장 디렉토리 지정\n",
        "writer = SummaryWriter(\"runs/experiment_1\")\n"
      ],
      "metadata": {
        "id": "WoXaytulgsI-"
      },
      "execution_count": null,
      "outputs": []
    },
    {
      "cell_type": "code",
      "source": [
        "import splitfolders  # splitfolders 라이브러리 불러오기\n",
        "\n",
        "splitfolders.ratio(\n",
        "    path,  # 원본 데이터 폴더 경로\n",
        "    output=\"splitted\",  # 분할된 데이터가 저장될 폴더명 (기본값: \"splitted\")\n",
        "    seed=1337,  # 랜덤 시드 값 (재현 가능성 보장)\n",
        "    ratio=(0.8, 0, 0.2)  # 훈련 80%, 검증 0%, 테스트 20% 비율로 데이터 분할\n",
        ")\n"
      ],
      "metadata": {
        "colab": {
          "base_uri": "https://localhost:8080/"
        },
        "id": "6QLuY4hTgArD",
        "outputId": "01c6a06f-7160-4aac-b787-7f8944f9c1a2"
      },
      "execution_count": null,
      "outputs": [
        {
          "output_type": "stream",
          "name": "stderr",
          "text": [
            "Copying files: 75000 files [00:10, 7418.32 files/s]\n"
          ]
        }
      ]
    },
    {
      "cell_type": "code",
      "source": [
        "test_data_path = '/content/splitted/test'\n",
        "train_data_path = '/content/splitted/train'\n",
        "classes = [dir for dir in os.listdir(test_data_path)]"
      ],
      "metadata": {
        "id": "KAprkapEgmK8"
      },
      "execution_count": null,
      "outputs": []
    },
    {
      "cell_type": "code",
      "source": [
        "classes"
      ],
      "metadata": {
        "colab": {
          "base_uri": "https://localhost:8080/"
        },
        "id": "o92DXdcUbF1A",
        "outputId": "cebce64b-fb36-4cd3-9deb-fa396550f984"
      },
      "execution_count": null,
      "outputs": [
        {
          "output_type": "execute_result",
          "data": {
            "text/plain": [
              "['Karacadag', 'Basmati', 'Jasmine', 'Ipsala', 'Arborio']"
            ]
          },
          "metadata": {},
          "execution_count": 9
        }
      ]
    },
    {
      "cell_type": "code",
      "source": [
        "def training(model, dataloader, loss_fn, optimizer):\n",
        "    model.train()\n",
        "    train_loss = 0\n",
        "    train_acc = 0\n",
        "\n",
        "    for batch, (image, label) in enumerate(dataloader):\n",
        "        image = image.to(device)\n",
        "        label = label.to(device)\n",
        "\n",
        "        label_pred = model(image)\n",
        "\n",
        "        loss = loss_fn(label_pred,label)\n",
        "        train_loss += loss.item()\n",
        "\n",
        "        optimizer.zero_grad()\n",
        "\n",
        "        loss.backward()\n",
        "\n",
        "        optimizer.step()\n",
        "\n",
        "        label_pred_class = torch.argmax(torch.softmax(label_pred, dim=1), dim=1)\n",
        "        train_acc += (label_pred_class == label).sum().item()/len(label_pred)\n",
        "\n",
        "    train_loss = train_loss / len(dataloader)\n",
        "    train_acc = train_acc / len(dataloader)\n",
        "    return train_loss, train_acc"
      ],
      "metadata": {
        "id": "xPES5nM6irto"
      },
      "execution_count": null,
      "outputs": []
    },
    {
      "cell_type": "code",
      "source": [
        "def train_process(model, train_dataloader, optimizer, loss_fn, epochs):\n",
        "    results = {\"train_loss\": [], \"train_acc\": []}\n",
        "\n",
        "\n",
        "    for epoch in tqdm(range(epochs)):\n",
        "        train_loss, train_acc = training(model=model, dataloader=train_dataloader, loss_fn=loss_fn, optimizer=optimizer)\n",
        "\n",
        "        # TensorBoard에 Loss & Accuracy 기록\n",
        "        writer.add_scalar(\"Loss/train\", train_loss, epoch)\n",
        "        writer.add_scalar(\"Accuracy/train\", train_acc, epoch)\n",
        "\n",
        "        print(f\"Epoch: {epoch+1} | train_loss: {train_loss:.4f} | train_acc: {train_acc:.4f}\")\n",
        "\n",
        "\n",
        "        results[\"train_loss\"].append(train_loss)\n",
        "        results[\"train_acc\"].append(train_acc)\n",
        "\n",
        "    writer.close()  # TensorBoard Writer 종료\n",
        "    return results"
      ],
      "metadata": {
        "id": "-EFv4PaEkVFk"
      },
      "execution_count": null,
      "outputs": []
    },
    {
      "cell_type": "code",
      "source": [
        "def test_step(model,dataloader,loss_fn):\n",
        "    model.eval()\n",
        "    test_loss, test_acc = 0, 0\n",
        "    with torch.inference_mode():\n",
        "        for batch, (X, y) in enumerate(dataloader):\n",
        "            X, y = X.to(device), y.to(device)\n",
        "            val_pred_logits = model(X)\n",
        "            loss = loss_fn(val_pred_logits, y)\n",
        "            test_loss += loss.item()\n",
        "            val_pred_labels = val_pred_logits.argmax(dim=1)\n",
        "            test_acc += ((val_pred_labels == y).sum().item()/len(val_pred_labels))\n",
        "    test_loss = test_loss / len(dataloader)\n",
        "    test_acc = test_acc / len(dataloader)\n",
        "    return test_loss, test_acc"
      ],
      "metadata": {
        "id": "PXxIcS2soG3W"
      },
      "execution_count": null,
      "outputs": []
    },
    {
      "cell_type": "markdown",
      "source": [
        "# 변형을 줬을 때"
      ],
      "metadata": {
        "id": "ysnOAeMaz4e5"
      }
    },
    {
      "cell_type": "markdown",
      "source": [],
      "metadata": {
        "id": "xBY75lZ4z4bW"
      }
    },
    {
      "cell_type": "code",
      "source": [
        "train_transform_rn50 = transforms.Compose([\n",
        "    transforms.Resize(size=232, interpolation=transforms.InterpolationMode.BILINEAR),\n",
        "    transforms.CenterCrop(size=224),\n",
        "    transforms.RandomRotation(45), # augmentation: random rotation 45 degree\n",
        "    transforms.ToTensor(),\n",
        "    transforms.Normalize(mean=[0.485, 0.456, 0.406], std=[0.229, 0.224, 0.225])\n",
        "])\n",
        "\n",
        "test_transform_rn50 = transforms.Compose([\n",
        "    transforms.Resize(size=232, interpolation=transforms.InterpolationMode.BILINEAR),\n",
        "    transforms.CenterCrop(size=224),\n",
        "    transforms.ToTensor(),\n",
        "    transforms.Normalize(mean=[0.485, 0.456, 0.406], std=[0.229, 0.224, 0.225])\n",
        "])"
      ],
      "metadata": {
        "id": "9kpuBSK4hIN0"
      },
      "execution_count": null,
      "outputs": []
    },
    {
      "cell_type": "code",
      "source": [],
      "metadata": {
        "id": "PttkHCW3hM-R"
      },
      "execution_count": null,
      "outputs": []
    },
    {
      "cell_type": "code",
      "source": [],
      "metadata": {
        "id": "cYfWHY7GhQg-"
      },
      "execution_count": null,
      "outputs": []
    },
    {
      "cell_type": "code",
      "source": [
        "train_dataset_rn50 = datasets.ImageFolder(root=train_data_path, transform=train_transform_rn50)\n",
        "test_dataset_rn50 = datasets.ImageFolder(root=test_data_path, transform=test_transform_rn50)\n",
        "est_data_loader = DataLoader(test_dataset_rn50, batch_size=32, shuffle=True)\n",
        "train_data_loader = DataLoader(train_dataset_rn50, batch_size=32, shuffle=True)\n",
        "rn50_model = resnet50(weights=ResNet50_Weights.DEFAULT)\n",
        "rn50_model.fc = nn.Sequential(nn.Linear(in_features=rn50_model.fc.in_features, out_features=5))\n",
        "for param in rn50_model.parameters():\n",
        "    param.requires_grad = False\n",
        "\n",
        "for param in rn50_model.fc.parameters():\n",
        "    param.requires_grad = True\n",
        "\n",
        "rn50_model = rn50_model.to(device)\n",
        "rn50_model2 = copy.deepcopy(rn50_model).to(device)\n",
        "rn50_model3 = copy.deepcopy(rn50_model).to(device)\n",
        "loss_fn = nn.CrossEntropyLoss()\n",
        "optim_rn50 = Adam(params=rn50_model.parameters(), lr=0.001)"
      ],
      "metadata": {
        "id": "CP1vILSzhVEv"
      },
      "execution_count": null,
      "outputs": []
    },
    {
      "cell_type": "code",
      "source": [
        "import time\n",
        "torch.manual_seed(42)\n",
        "torch.cuda.manual_seed(42)\n",
        "\n",
        "NUM_EPOCHS = 10\n",
        "\n",
        "start_time = timer()\n",
        "\n",
        "rn50_results = train_process(model=rn50_model,train_dataloader=train_data_loader,optimizer=optim_rn50,loss_fn=loss_fn,epochs=NUM_EPOCHS)\n",
        "\n",
        "end_time = timer()\n",
        "print(f\"Total Training Time: {end_time-start_time:.3f} seconds\")"
      ],
      "metadata": {
        "colab": {
          "base_uri": "https://localhost:8080/",
          "height": 249,
          "referenced_widgets": [
            "bdc29bbdb7194fa380d01fa32f83b1f3",
            "897089a1c0c847bf801eafbd5b2813a7",
            "5fdf3189d7d34bafb1e019b9371f4359",
            "df8b784c67d1429ba527aa89e0f2f07f",
            "8ab2ad7ca63e47d6a6137c33b9342449",
            "0e1aa50318374325b0a52f6388ca76a6",
            "b0d27040341148308fb967dcc8c6c908",
            "0437d7bed1f14c818a1555492d2d3a39",
            "7fc34f684a4b4b99a0639dfbeb330245",
            "6333189abd8e4f5ca742bc7ea2ac0a7e",
            "81f61d3b19e2435ab9870581e43e0d28"
          ]
        },
        "id": "kIDbIVwuk4o5",
        "outputId": "61bbbf3c-b9b7-466d-9731-516e3cbc7b86"
      },
      "execution_count": null,
      "outputs": [
        {
          "output_type": "display_data",
          "data": {
            "text/plain": [
              "  0%|          | 0/10 [00:00<?, ?it/s]"
            ],
            "application/vnd.jupyter.widget-view+json": {
              "version_major": 2,
              "version_minor": 0,
              "model_id": "bdc29bbdb7194fa380d01fa32f83b1f3"
            }
          },
          "metadata": {}
        },
        {
          "output_type": "stream",
          "name": "stdout",
          "text": [
            "Epoch: 1 | train_loss: 0.2271 | train_acc: 0.9453\n",
            "Epoch: 2 | train_loss: 0.0967 | train_acc: 0.9709\n",
            "Epoch: 3 | train_loss: 0.0788 | train_acc: 0.9747\n",
            "Epoch: 4 | train_loss: 0.0712 | train_acc: 0.9765\n",
            "Epoch: 5 | train_loss: 0.0659 | train_acc: 0.9779\n",
            "Epoch: 6 | train_loss: 0.0623 | train_acc: 0.9788\n",
            "Epoch: 7 | train_loss: 0.0611 | train_acc: 0.9789\n",
            "Epoch: 8 | train_loss: 0.0610 | train_acc: 0.9793\n",
            "Epoch: 9 | train_loss: 0.0566 | train_acc: 0.9811\n",
            "Epoch: 10 | train_loss: 0.0548 | train_acc: 0.9815\n",
            "Total Training Time: 1661.867 seconds\n"
          ]
        }
      ]
    },
    {
      "cell_type": "code",
      "source": [
        "test_step(model=rn50_model, dataloader=test_data_loader, loss_fn=loss_fn)"
      ],
      "metadata": {
        "colab": {
          "base_uri": "https://localhost:8080/"
        },
        "id": "34DYGaqcoJYk",
        "outputId": "1963e684-d7e4-45ab-f971-82ad360a8729"
      },
      "execution_count": null,
      "outputs": [
        {
          "output_type": "execute_result",
          "data": {
            "text/plain": [
              "(0.04530902666552092, 0.9856743070362474)"
            ]
          },
          "metadata": {},
          "execution_count": 17
        }
      ]
    },
    {
      "cell_type": "markdown",
      "source": [
        "# 변형 지우고"
      ],
      "metadata": {
        "id": "ilW0nyjMDQe1"
      }
    },
    {
      "cell_type": "code",
      "source": [
        "train_rn50 = transforms.Compose([\n",
        "    transforms.Resize(size=232, interpolation=transforms.InterpolationMode.BILINEAR),\n",
        "    transforms.CenterCrop(size=224),\n",
        "\n",
        "    transforms.ToTensor(),\n",
        "    transforms.Normalize(mean=[0.485, 0.456, 0.406], std=[0.229, 0.224, 0.225])\n",
        "])\n",
        "\n",
        "test_rn50 = transforms.Compose([\n",
        "    transforms.Resize(size=232, interpolation=transforms.InterpolationMode.BILINEAR),\n",
        "    transforms.CenterCrop(size=224),\n",
        "    transforms.ToTensor(),\n",
        "    transforms.Normalize(mean=[0.485, 0.456, 0.406], std=[0.229, 0.224, 0.225])\n",
        "])"
      ],
      "metadata": {
        "id": "NOys3Z9O1xU3"
      },
      "execution_count": null,
      "outputs": []
    },
    {
      "cell_type": "code",
      "source": [
        "train_dataset = datasets.ImageFolder(root=train_data_path, transform=train_rn50)\n",
        "test_dataset = datasets.ImageFolder(root=test_data_path, transform=test_rn50)"
      ],
      "metadata": {
        "id": "wUM5NPSeDBF2"
      },
      "execution_count": null,
      "outputs": []
    },
    {
      "cell_type": "code",
      "source": [
        "test_loader = DataLoader(test_dataset, batch_size=32, shuffle=True)\n",
        "train_loader = DataLoader(train_dataset, batch_size=32, shuffle=True)"
      ],
      "metadata": {
        "id": "0-yccetYDEJI"
      },
      "execution_count": null,
      "outputs": []
    },
    {
      "cell_type": "code",
      "source": [
        "rn50_model2 = resnet50(weights=ResNet50_Weights.DEFAULT)\n",
        "rn50_model2.fc = nn.Sequential(nn.Linear(in_features=rn50_model2.fc.in_features, out_features=5))\n",
        "for param in rn50_model2.parameters():\n",
        "    param.requires_grad = False\n",
        "\n",
        "for param in rn50_model2.fc.parameters():\n",
        "    param.requires_grad = True\n",
        "\n",
        "rn50_model2 = rn50_model2.to(device)\n"
      ],
      "metadata": {
        "id": "CwJmDDYqDGgl"
      },
      "execution_count": null,
      "outputs": []
    },
    {
      "cell_type": "code",
      "source": [
        "loss_fn = nn.CrossEntropyLoss()\n",
        "optim = Adam(params=rn50_model2.parameters(), lr=0.001)"
      ],
      "metadata": {
        "id": "2Twb4FZyDIPt"
      },
      "execution_count": null,
      "outputs": []
    },
    {
      "cell_type": "code",
      "source": [
        "import time\n",
        "torch.manual_seed(42)\n",
        "torch.cuda.manual_seed(42)\n",
        "\n",
        "NUM_EPOCHS = 10\n",
        "\n",
        "start_time = timer()\n",
        "\n",
        "rn50_result = train_process(model=rn50_model2,train_dataloader=train_loader,optimizer=optim,loss_fn=loss_fn,epochs=NUM_EPOCHS)\n",
        "\n",
        "end_time = timer()\n",
        "print(f\"Total Training Time: {end_time-start_time:.3f} seconds\")"
      ],
      "metadata": {
        "colab": {
          "base_uri": "https://localhost:8080/",
          "height": 249,
          "referenced_widgets": [
            "d29910d700df43419ee0289eb82c465b",
            "9a3d5d6bf7d945f7863a23fbd322c539",
            "67c11713d1414c149436bc26dfd1187b",
            "afff89bcffdd45e8af281d978a3e461f",
            "ee9c89c9f5d64491a6ae586b20e0cbfe",
            "56c932718b3242eb99642fc98cd06d9e",
            "d72b5b763ba740babf96c65a008a863b",
            "92197d216780497fa115496c628b23d4",
            "9af2b53837264050940d78b11bad2b62",
            "129745f70c144578be869de4cfe94630",
            "41472fe59347433caf66149324272a0c"
          ]
        },
        "id": "ON5Z6xYSDLaV",
        "outputId": "156d83a7-0c9e-4063-e8c4-ea09e67fd460"
      },
      "execution_count": null,
      "outputs": [
        {
          "output_type": "display_data",
          "data": {
            "text/plain": [
              "  0%|          | 0/10 [00:00<?, ?it/s]"
            ],
            "application/vnd.jupyter.widget-view+json": {
              "version_major": 2,
              "version_minor": 0,
              "model_id": "d29910d700df43419ee0289eb82c465b"
            }
          },
          "metadata": {}
        },
        {
          "output_type": "stream",
          "name": "stdout",
          "text": [
            "Epoch: 1 | train_loss: 0.1938 | train_acc: 0.9630\n",
            "Epoch: 2 | train_loss: 0.0667 | train_acc: 0.9817\n",
            "Epoch: 3 | train_loss: 0.0502 | train_acc: 0.9856\n",
            "Epoch: 4 | train_loss: 0.0444 | train_acc: 0.9865\n",
            "Epoch: 5 | train_loss: 0.0391 | train_acc: 0.9880\n",
            "Epoch: 6 | train_loss: 0.0344 | train_acc: 0.9898\n",
            "Epoch: 7 | train_loss: 0.0344 | train_acc: 0.9890\n",
            "Epoch: 8 | train_loss: 0.0326 | train_acc: 0.9892\n",
            "Epoch: 9 | train_loss: 0.0312 | train_acc: 0.9899\n",
            "Epoch: 10 | train_loss: 0.0296 | train_acc: 0.9903\n",
            "Total Training Time: 1546.139 seconds\n"
          ]
        }
      ]
    },
    {
      "cell_type": "code",
      "source": [
        "test_step(model=rn50_model2, dataloader=test_loader, loss_fn=loss_fn)"
      ],
      "metadata": {
        "colab": {
          "base_uri": "https://localhost:8080/"
        },
        "id": "z-6SWYOUE-OI",
        "outputId": "45ca1a49-17b7-467b-be60-10fc66206431"
      },
      "execution_count": null,
      "outputs": [
        {
          "output_type": "execute_result",
          "data": {
            "text/plain": [
              "(0.02224624726760225, 0.9930037313432836)"
            ]
          },
          "metadata": {},
          "execution_count": 38
        }
      ]
    },
    {
      "cell_type": "markdown",
      "source": [
        "이 또한 변형이 없을 때 더 일반화 성능이 높은 것을 볼 수 있다 그렇다면 회전 증강방법은 쓰면 안되는 것인가? 이 문제는 각도에 따라서 실험을 해야한다."
      ],
      "metadata": {
        "id": "R7t5zMjje0eF"
      }
    },
    {
      "cell_type": "markdown",
      "source": [
        "# 변형 30도"
      ],
      "metadata": {
        "id": "Rjdr_FipLWJI"
      }
    },
    {
      "cell_type": "code",
      "source": [
        "train_rn50 = transforms.Compose([\n",
        "    transforms.Resize(size=232, interpolation=transforms.InterpolationMode.BILINEAR),\n",
        "    transforms.CenterCrop(size=224),\n",
        "    transforms.RandomRotation(30),\n",
        "    transforms.ToTensor(),\n",
        "    transforms.Normalize(mean=[0.485, 0.456, 0.406], std=[0.229, 0.224, 0.225])\n",
        "])\n",
        "\n",
        "test_rn50 = transforms.Compose([\n",
        "    transforms.Resize(size=232, interpolation=transforms.InterpolationMode.BILINEAR),\n",
        "    transforms.CenterCrop(size=224),\n",
        "    transforms.ToTensor(),\n",
        "    transforms.Normalize(mean=[0.485, 0.456, 0.406], std=[0.229, 0.224, 0.225])\n",
        "])"
      ],
      "metadata": {
        "id": "W2zYBG7yLWJL"
      },
      "execution_count": null,
      "outputs": []
    },
    {
      "cell_type": "code",
      "source": [
        "train_dataset = datasets.ImageFolder(root=train_data_path, transform=train_rn50)\n",
        "test_dataset = datasets.ImageFolder(root=test_data_path, transform=test_rn50)"
      ],
      "metadata": {
        "id": "ZHU8_G78LWJM"
      },
      "execution_count": null,
      "outputs": []
    },
    {
      "cell_type": "code",
      "source": [
        "test_loader = DataLoader(test_dataset, batch_size=32, shuffle=True)\n",
        "train_loader = DataLoader(train_dataset, batch_size=32, shuffle=True)"
      ],
      "metadata": {
        "id": "_T9wJJ7ILWJN"
      },
      "execution_count": null,
      "outputs": []
    },
    {
      "cell_type": "code",
      "source": [
        "rn50_model2 = resnet50(weights=ResNet50_Weights.DEFAULT)\n",
        "rn50_model2.fc = nn.Sequential(nn.Linear(in_features=rn50_model2.fc.in_features, out_features=5))\n",
        "for param in rn50_model2.parameters():\n",
        "    param.requires_grad = False\n",
        "\n",
        "for param in rn50_model2.fc.parameters():\n",
        "    param.requires_grad = True\n",
        "\n",
        "rn50_model2 = rn50_model2.to(device)\n"
      ],
      "metadata": {
        "colab": {
          "base_uri": "https://localhost:8080/"
        },
        "id": "yl605NutLWJN",
        "outputId": "a1de6c95-1be5-46e2-83a7-d1c2c94010ed"
      },
      "execution_count": null,
      "outputs": [
        {
          "output_type": "stream",
          "name": "stderr",
          "text": [
            "Downloading: \"https://download.pytorch.org/models/resnet50-11ad3fa6.pth\" to /root/.cache/torch/hub/checkpoints/resnet50-11ad3fa6.pth\n",
            "100%|██████████| 97.8M/97.8M [00:00<00:00, 199MB/s]\n"
          ]
        }
      ]
    },
    {
      "cell_type": "code",
      "source": [
        "loss_fn = nn.CrossEntropyLoss()\n",
        "optim = Adam(params=rn50_model2.parameters(), lr=0.001)"
      ],
      "metadata": {
        "id": "vI5A0PLDLWJO"
      },
      "execution_count": null,
      "outputs": []
    },
    {
      "cell_type": "code",
      "source": [
        "import time\n",
        "torch.manual_seed(42)\n",
        "torch.cuda.manual_seed(42)\n",
        "\n",
        "NUM_EPOCHS = 10\n",
        "\n",
        "start_time = timer()\n",
        "\n",
        "rn50_result = train_process(model=rn50_model2,train_dataloader=train_loader,optimizer=optim,loss_fn=loss_fn,epochs=NUM_EPOCHS)\n",
        "\n",
        "end_time = timer()\n",
        "print(f\"Total Training Time: {end_time-start_time:.3f} seconds\")"
      ],
      "metadata": {
        "colab": {
          "base_uri": "https://localhost:8080/",
          "height": 249,
          "referenced_widgets": [
            "83441f3ea989439d96cccda30e66b122",
            "4180ba1099314b60ac0f11a6f44a5388",
            "c4ce894183164732b138e255082b8f27",
            "66041a98269f44b3878f564c1d0eb911",
            "05ed7a45bb6e4b5495e56ad15e2234ec",
            "5682b988cba548599686d96093303556",
            "a6b2083383ec4d8d8419417dfb9ed3aa",
            "36ba77ea85db4fec8b2e05550550de5e",
            "8277c5196d234a6eb99d6cf43e8514c3",
            "2e6898ac5dd24712ba94e9fbd083abbc",
            "636b975a03164b9eb6b14fe66583833a"
          ]
        },
        "outputId": "a10ff004-7f4e-41cd-83c6-2b625e926c22",
        "id": "S-0ElQF-LWJP"
      },
      "execution_count": null,
      "outputs": [
        {
          "output_type": "display_data",
          "data": {
            "text/plain": [
              "  0%|          | 0/10 [00:00<?, ?it/s]"
            ],
            "application/vnd.jupyter.widget-view+json": {
              "version_major": 2,
              "version_minor": 0,
              "model_id": "83441f3ea989439d96cccda30e66b122"
            }
          },
          "metadata": {}
        },
        {
          "output_type": "stream",
          "name": "stdout",
          "text": [
            "Epoch: 1 | train_loss: 0.2231 | train_acc: 0.9474\n",
            "Epoch: 2 | train_loss: 0.0955 | train_acc: 0.9706\n",
            "Epoch: 3 | train_loss: 0.0753 | train_acc: 0.9762\n",
            "Epoch: 4 | train_loss: 0.0700 | train_acc: 0.9768\n",
            "Epoch: 5 | train_loss: 0.0642 | train_acc: 0.9786\n",
            "Epoch: 6 | train_loss: 0.0621 | train_acc: 0.9795\n",
            "Epoch: 7 | train_loss: 0.0588 | train_acc: 0.9802\n",
            "Epoch: 8 | train_loss: 0.0590 | train_acc: 0.9801\n",
            "Epoch: 9 | train_loss: 0.0559 | train_acc: 0.9811\n",
            "Epoch: 10 | train_loss: 0.0522 | train_acc: 0.9820\n",
            "Total Training Time: 1719.493 seconds\n"
          ]
        }
      ]
    },
    {
      "cell_type": "code",
      "source": [
        "test_step(model=rn50_model2, dataloader=test_loader, loss_fn=loss_fn)"
      ],
      "metadata": {
        "colab": {
          "base_uri": "https://localhost:8080/"
        },
        "outputId": "08f373e2-3a12-4f29-bbfe-97e4519aa850",
        "id": "wHqnsR3fLWJP"
      },
      "execution_count": null,
      "outputs": [
        {
          "output_type": "execute_result",
          "data": {
            "text/plain": [
              "(0.04106270601433803, 0.9859408315565032)"
            ]
          },
          "metadata": {},
          "execution_count": 22
        }
      ]
    },
    {
      "cell_type": "markdown",
      "source": [
        "30도로 했을 때도 성능이 45도 했을 때와 비슷하다 15 도까지만 더 추가 연구를 하고 다른 변환 방법을 적용하여 연구를 할 생각이다"
      ],
      "metadata": {
        "id": "Aul2wQskLWJQ"
      }
    },
    {
      "cell_type": "code",
      "source": [],
      "metadata": {
        "id": "QBNM5UuOLrIc"
      },
      "execution_count": null,
      "outputs": []
    },
    {
      "cell_type": "markdown",
      "source": [
        "# 변형 15도"
      ],
      "metadata": {
        "id": "8j9pVK7Z4q2Y"
      }
    },
    {
      "cell_type": "code",
      "source": [
        "train_15 = transforms.Compose([\n",
        "    transforms.Resize(size=232, interpolation=transforms.InterpolationMode.BILINEAR),\n",
        "    transforms.CenterCrop(size=224),\n",
        "    transforms.RandomRotation(15),\n",
        "    transforms.ToTensor(),\n",
        "    transforms.Normalize(mean=[0.485, 0.456, 0.406], std=[0.229, 0.224, 0.225])\n",
        "])\n",
        "\n",
        "test_15 = transforms.Compose([\n",
        "    transforms.Resize(size=232, interpolation=transforms.InterpolationMode.BILINEAR),\n",
        "    transforms.CenterCrop(size=224),\n",
        "    transforms.ToTensor(),\n",
        "    transforms.Normalize(mean=[0.485, 0.456, 0.406], std=[0.229, 0.224, 0.225])\n",
        "])"
      ],
      "metadata": {
        "id": "q6Ixk4tu4q2Z"
      },
      "execution_count": null,
      "outputs": []
    },
    {
      "cell_type": "code",
      "source": [
        "train_dataset = datasets.ImageFolder(root=train_data_path, transform=train_15)\n",
        "test_dataset = datasets.ImageFolder(root=test_data_path, transform=test_15)"
      ],
      "metadata": {
        "id": "334EiZD54q2Z"
      },
      "execution_count": null,
      "outputs": []
    },
    {
      "cell_type": "code",
      "source": [
        "test_loader = DataLoader(test_dataset, batch_size=32, shuffle=True)\n",
        "train_loader = DataLoader(train_dataset, batch_size=32, shuffle=True)"
      ],
      "metadata": {
        "id": "wuf5IEoS4q2a"
      },
      "execution_count": null,
      "outputs": []
    },
    {
      "cell_type": "code",
      "source": [
        "rn50_15 = resnet50(weights=ResNet50_Weights.DEFAULT)\n",
        "rn50_15.fc = nn.Sequential(nn.Linear(in_features=rn50_15.fc.in_features, out_features=5))\n",
        "for param in rn50_15.parameters():\n",
        "    param.requires_grad = False\n",
        "\n",
        "for param in rn50_15.fc.parameters():\n",
        "    param.requires_grad = True\n",
        "\n",
        "rn50_15 = rn50_15.to(device)\n"
      ],
      "metadata": {
        "id": "Kh0WkQMt4q2a"
      },
      "execution_count": null,
      "outputs": []
    },
    {
      "cell_type": "code",
      "source": [
        "loss_fn = nn.CrossEntropyLoss()\n",
        "optim = Adam(params=rn50_15.parameters(), lr=0.001)"
      ],
      "metadata": {
        "id": "BM8n2YsV4q2a"
      },
      "execution_count": null,
      "outputs": []
    },
    {
      "cell_type": "code",
      "source": [
        "import time\n",
        "torch.manual_seed(42)\n",
        "torch.cuda.manual_seed(42)\n",
        "\n",
        "NUM_EPOCHS = 10\n",
        "\n",
        "start_time = timer()\n",
        "\n",
        "rn50_result = train_process(model=rn50_15,train_dataloader=train_loader,optimizer=optim,loss_fn=loss_fn,epochs=NUM_EPOCHS)\n",
        "\n",
        "end_time = timer()\n",
        "print(f\"Total Training Time: {end_time-start_time:.3f} seconds\")"
      ],
      "metadata": {
        "colab": {
          "base_uri": "https://localhost:8080/",
          "height": 249,
          "referenced_widgets": [
            "aafea19b774f41f1b72b8d684ae5dd5b",
            "cbc688c33cec472c89e0784c39eed822",
            "f08f91479c6945d7a84244ef63280005",
            "7ad8650d778f4f16a6c10d544b63d00f",
            "f5384467f8124c18ad7be60ea0c84273",
            "7efc9e98c578404d9e81a2ac237f8d44",
            "ba4683d0860a44d3876a4c7c0e1b1ca2",
            "3523c2e8c0284139a7e1cbb418e8b270",
            "e0a09cdbd7ae4370b9a8416313cbec4d",
            "ac5ae4fdd5e04ca79888b1a8c4f32ef3",
            "b36adbb826d145a584d34e111f4541b9"
          ]
        },
        "outputId": "6d3e22f2-f5a4-47c8-b03b-bbb023cb8ee6",
        "id": "lhAb7i1H4q2a"
      },
      "execution_count": null,
      "outputs": [
        {
          "output_type": "display_data",
          "data": {
            "text/plain": [
              "  0%|          | 0/10 [00:00<?, ?it/s]"
            ],
            "application/vnd.jupyter.widget-view+json": {
              "version_major": 2,
              "version_minor": 0,
              "model_id": "aafea19b774f41f1b72b8d684ae5dd5b"
            }
          },
          "metadata": {}
        },
        {
          "output_type": "stream",
          "name": "stdout",
          "text": [
            "Epoch: 1 | train_loss: 0.2135 | train_acc: 0.9517\n",
            "Epoch: 2 | train_loss: 0.0875 | train_acc: 0.9740\n",
            "Epoch: 3 | train_loss: 0.0691 | train_acc: 0.9784\n",
            "Epoch: 4 | train_loss: 0.0631 | train_acc: 0.9794\n",
            "Epoch: 5 | train_loss: 0.0587 | train_acc: 0.9805\n",
            "Epoch: 6 | train_loss: 0.0555 | train_acc: 0.9812\n",
            "Epoch: 7 | train_loss: 0.0541 | train_acc: 0.9822\n",
            "Epoch: 8 | train_loss: 0.0515 | train_acc: 0.9829\n",
            "Epoch: 9 | train_loss: 0.0505 | train_acc: 0.9831\n",
            "Epoch: 10 | train_loss: 0.0482 | train_acc: 0.9833\n",
            "Total Training Time: 1693.287 seconds\n"
          ]
        }
      ]
    },
    {
      "cell_type": "code",
      "source": [
        "test_step(model=rn50_15, dataloader=test_loader, loss_fn=loss_fn)"
      ],
      "metadata": {
        "colab": {
          "base_uri": "https://localhost:8080/"
        },
        "outputId": "49f3ecc4-7550-4251-e580-1b6b45ee83da",
        "id": "TLyUjDIr4q2b"
      },
      "execution_count": null,
      "outputs": [
        {
          "output_type": "execute_result",
          "data": {
            "text/plain": [
              "(0.035313550031372605, 0.988339552238806)"
            ]
          },
          "metadata": {},
          "execution_count": 38
        }
      ]
    },
    {
      "cell_type": "code",
      "source": [
        "rn50_result"
      ],
      "metadata": {
        "colab": {
          "base_uri": "https://localhost:8080/"
        },
        "id": "NVVPvsXr4q2b",
        "outputId": "6c7913bc-4c58-490a-f03f-1d18d662c8f4"
      },
      "execution_count": null,
      "outputs": [
        {
          "output_type": "execute_result",
          "data": {
            "text/plain": [
              "{'train_loss': [0.21346342677871386,\n",
              "  0.08748214978997906,\n",
              "  0.06913947416270773,\n",
              "  0.06310580610111356,\n",
              "  0.058714964948222044,\n",
              "  0.05546731738553693,\n",
              "  0.054075249746876455,\n",
              "  0.05147468105809142,\n",
              "  0.05048726601346085,\n",
              "  0.04819778904064248],\n",
              " 'train_acc': [0.9517,\n",
              "  0.9740333333333333,\n",
              "  0.97835,\n",
              "  0.9793833333333334,\n",
              "  0.9805,\n",
              "  0.98125,\n",
              "  0.9821833333333333,\n",
              "  0.9828666666666667,\n",
              "  0.9830833333333333,\n",
              "  0.9832666666666666]}"
            ]
          },
          "metadata": {},
          "execution_count": 20
        }
      ]
    },
    {
      "cell_type": "markdown",
      "source": [
        "15도 역시 회전시 훈련셋 98% 정확도를 가지고 테스트셋으로는 (0.035313550031372605, 0.988339552238806) 의 성능을 보여준다 이 또한 회전을 안 했을 때 더 좋은 성능을 보인다는 것을 입증한다\n",
        "\n",
        "그렇다면 회전으로는 이 데이터들의 일반화 성능을 올릴 수 없나?\n",
        "\n",
        "보간 법과 패딩을 검은색이 아닌 흰 색으로 할 예정이다."
      ],
      "metadata": {
        "id": "xo0qvrtKH1_z"
      }
    },
    {
      "cell_type": "markdown",
      "source": [
        "#DB 연결 및 저장"
      ],
      "metadata": {
        "id": "pFncMwgvHxlz"
      }
    },
    {
      "cell_type": "code",
      "source": [
        "# with engine.connect() as conn:\n",
        "#     # Use text() to create a SQLAlchemy TextClause object\n",
        "#     conn.execute(text(\"\"\"\n",
        "#         CREATE TABLE IF NOT EXISTS training_metrics (\n",
        "#             id INT AUTO_INCREMENT PRIMARY KEY,\n",
        "#             rotation INT NOT NULL,\n",
        "#             epoch INT NOT NULL,\n",
        "#             train_loss FLOAT,\n",
        "#             train_acc FLOAT\n",
        "#         );\n",
        "#     \"\"\"))"
      ],
      "metadata": {
        "id": "5OcNBkVbEudw"
      },
      "execution_count": null,
      "outputs": []
    },
    {
      "cell_type": "code",
      "source": [
        "with engine.connect() as conn:\n",
        "    for epoch, (loss, acc) in enumerate(zip(rn50_result['train_loss'], rn50_result['train_acc']), start=1):\n",
        "        values_to_insert = {\n",
        "            'rotation': 15,\n",
        "            'epoch': epoch,\n",
        "            'train_loss': loss,\n",
        "            'train_acc': acc\n",
        "        }\n",
        "        conn.execute(\n",
        "            text(\"INSERT INTO training_metrics (rotation, epoch, train_loss, train_acc) VALUES (:rotation, :epoch, :train_loss, :train_acc)\"),\n",
        "            values_to_insert\n",
        "        )\n",
        "    conn.commit()"
      ],
      "metadata": {
        "id": "bNU-tc5m6iYO"
      },
      "execution_count": null,
      "outputs": []
    },
    {
      "cell_type": "code",
      "source": [
        "with engine.connect() as conn:\n",
        "    result = conn.execute(text(\"SELECT * FROM training_metrics\"))\n",
        "\n",
        "    # 결과 출력\n",
        "    for row in result.fetchall():\n",
        "        print(row)"
      ],
      "metadata": {
        "colab": {
          "base_uri": "https://localhost:8080/"
        },
        "id": "K5Uam1VsHCjX",
        "outputId": "eb69c033-339e-4688-a497-08f608b6036b"
      },
      "execution_count": null,
      "outputs": [
        {
          "output_type": "stream",
          "name": "stdout",
          "text": [
            "(1, 15, 1, 0.213463, 0.9517)\n",
            "(2, 15, 2, 0.0874821, 0.974033)\n",
            "(3, 15, 3, 0.0691395, 0.97835)\n",
            "(4, 15, 4, 0.0631058, 0.979383)\n",
            "(5, 15, 5, 0.058715, 0.9805)\n",
            "(6, 15, 6, 0.0554673, 0.98125)\n",
            "(7, 15, 7, 0.0540752, 0.982183)\n",
            "(8, 15, 8, 0.0514747, 0.982867)\n",
            "(9, 15, 9, 0.0504873, 0.983083)\n",
            "(10, 15, 10, 0.0481978, 0.983267)\n"
          ]
        }
      ]
    },
    {
      "cell_type": "markdown",
      "source": [
        "# 보간법"
      ],
      "metadata": {
        "id": "51p4foHSIjY0"
      }
    },
    {
      "cell_type": "code",
      "source": [
        "train_IN = transforms.Compose([\n",
        "    transforms.Resize(size=232, interpolation=transforms.InterpolationMode.BILINEAR),\n",
        "    transforms.CenterCrop(size=224),\n",
        "    transforms.RandomRotation(degrees=15, interpolation=transforms.InterpolationMode.BILINEAR),\n",
        "    transforms.ToTensor(),\n",
        "    transforms.Normalize(mean=[0.485, 0.456, 0.406], std=[0.229, 0.224, 0.225])\n",
        "])\n",
        "\n",
        "test_IN = transforms.Compose([\n",
        "    transforms.Resize(size=232, interpolation=transforms.InterpolationMode.BILINEAR),\n",
        "    transforms.CenterCrop(size=224),\n",
        "    transforms.ToTensor(),\n",
        "    transforms.Normalize(mean=[0.485, 0.456, 0.406], std=[0.229, 0.224, 0.225])\n",
        "])"
      ],
      "metadata": {
        "id": "RpnYR0izIjY0"
      },
      "execution_count": null,
      "outputs": []
    },
    {
      "cell_type": "code",
      "source": [
        "train_dataset = datasets.ImageFolder(root=train_data_path, transform=train_IN)\n",
        "test_dataset = datasets.ImageFolder(root=test_data_path, transform=test_IN)"
      ],
      "metadata": {
        "id": "YueV02f6IjY1"
      },
      "execution_count": null,
      "outputs": []
    },
    {
      "cell_type": "code",
      "source": [
        "import matplotlib.pyplot as plt\n",
        "from torchvision.utils import make_grid\n",
        "\n",
        "# 이미지 여러 장 꺼내서 시각화\n",
        "fig, axs = plt.subplots(2, 5, figsize=(15, 6))\n",
        "inv_normalize = transforms.Normalize(\n",
        "    mean=[-0.485/0.229, -0.456/0.224, -0.406/0.225],\n",
        "    std=[1/0.229, 1/0.224, 1/0.225]\n",
        ")\n",
        "for i in range(10):\n",
        "    img_tensor, label = train_dataset[i]  # transform까지 적용된 이미지\n",
        "    img_tensor = inv_normalize(img_tensor)  # 정규화 해제\n",
        "    img_np = img_tensor.permute(1, 2, 0).clamp(0, 1).numpy()\n",
        "\n",
        "    ax = axs[i // 5][i % 5]\n",
        "    ax.imshow(img_np)\n",
        "    ax.set_title(f\"Label: {label}\")\n",
        "    ax.axis('off')\n",
        "\n",
        "plt.tight_layout()\n",
        "plt.show()"
      ],
      "metadata": {
        "colab": {
          "base_uri": "https://localhost:8080/",
          "height": 578
        },
        "id": "UKtsw8MLJtb0",
        "outputId": "ab1ff4b1-00c0-41d7-ce22-90a1a3a559ac"
      },
      "execution_count": null,
      "outputs": [
        {
          "output_type": "display_data",
          "data": {
            "text/plain": [
              "<Figure size 1500x600 with 10 Axes>"
            ],
            "image/png": "[encoded data removed]"
          },
          "metadata": {}
        }
      ]
    },
    {
      "cell_type": "code",
      "source": [
        "test_loader = DataLoader(test_dataset, batch_size=32, shuffle=True)\n",
        "train_loader = DataLoader(train_dataset, batch_size=32, shuffle=True)"
      ],
      "metadata": {
        "id": "ovP12Ki1IjY1"
      },
      "execution_count": null,
      "outputs": []
    },
    {
      "cell_type": "code",
      "source": [
        "rn50_IN = resnet50(weights=ResNet50_Weights.DEFAULT)\n",
        "rn50_IN.fc = nn.Sequential(nn.Linear(in_features=rn50_IN.fc.in_features, out_features=5))\n",
        "for param in rn50_IN.parameters():\n",
        "    param.requires_grad = False\n",
        "\n",
        "for param in rn50_IN.fc.parameters():\n",
        "    param.requires_grad = True\n",
        "\n",
        "rn50_IN = rn50_IN.to(device)\n"
      ],
      "metadata": {
        "id": "Me0pIrNxIjY1"
      },
      "execution_count": null,
      "outputs": []
    },
    {
      "cell_type": "code",
      "source": [
        "loss_fn = nn.CrossEntropyLoss()\n",
        "optim = Adam(params=rn50_IN.parameters(), lr=0.001)"
      ],
      "metadata": {
        "id": "aDT5dI07IjY2"
      },
      "execution_count": null,
      "outputs": []
    },
    {
      "cell_type": "code",
      "source": [
        "import time\n",
        "torch.manual_seed(42)\n",
        "torch.cuda.manual_seed(42)\n",
        "\n",
        "NUM_EPOCHS = 10\n",
        "\n",
        "start_time = timer()\n",
        "\n",
        "rn_in_result = train_process(model=rn50_IN,train_dataloader=train_loader,optimizer=optim,loss_fn=loss_fn,epochs=NUM_EPOCHS)\n",
        "\n",
        "end_time = timer()\n",
        "print(f\"Total Training Time: {end_time-start_time:.3f} seconds\")"
      ],
      "metadata": {
        "colab": {
          "base_uri": "https://localhost:8080/",
          "height": 249,
          "referenced_widgets": [
            "73578e2f94314f069a4e90851be6270a",
            "c00674f9263f4848b5cfa63ded47de70",
            "32da9124a4d8474db0504601e8ef73ff",
            "a9cb74e59e0b4724906b21839cc6b736",
            "ca3b915dab6a48229de63dbad8455f44",
            "2fc8107663104c558461ed136980d580",
            "99e661db225d415aa7c47d4f4c821cf8",
            "55260963ac7b4c86a2385e7c7a93524d",
            "395a1c96a0f649e899b7296474f3cd9f",
            "6db7d8e26c2f4450a16b833421d90448",
            "e9ba38410da24a8aaf44f131ef2fc373"
          ]
        },
        "outputId": "1794f417-61d1-4b28-e127-eca3e4ece77e",
        "id": "n48oy0V5IjY2"
      },
      "execution_count": null,
      "outputs": [
        {
          "output_type": "display_data",
          "data": {
            "text/plain": [
              "  0%|          | 0/10 [00:00<?, ?it/s]"
            ],
            "application/vnd.jupyter.widget-view+json": {
              "version_major": 2,
              "version_minor": 0,
              "model_id": "73578e2f94314f069a4e90851be6270a"
            }
          },
          "metadata": {}
        },
        {
          "output_type": "stream",
          "name": "stdout",
          "text": [
            "Epoch: 1 | train_loss: 0.1951 | train_acc: 0.9604\n",
            "Epoch: 2 | train_loss: 0.0713 | train_acc: 0.9799\n",
            "Epoch: 3 | train_loss: 0.0566 | train_acc: 0.9825\n",
            "Epoch: 4 | train_loss: 0.0503 | train_acc: 0.9843\n",
            "Epoch: 5 | train_loss: 0.0451 | train_acc: 0.9854\n",
            "Epoch: 6 | train_loss: 0.0421 | train_acc: 0.9867\n",
            "Epoch: 7 | train_loss: 0.0422 | train_acc: 0.9859\n",
            "Epoch: 8 | train_loss: 0.0394 | train_acc: 0.9871\n",
            "Epoch: 9 | train_loss: 0.0398 | train_acc: 0.9861\n",
            "Epoch: 10 | train_loss: 0.0359 | train_acc: 0.9883\n",
            "Total Training Time: 2541.625 seconds\n"
          ]
        }
      ]
    },
    {
      "cell_type": "code",
      "source": [
        "test_step(model=rn50_IN, dataloader=test_loader, loss_fn=loss_fn)"
      ],
      "metadata": {
        "colab": {
          "base_uri": "https://localhost:8080/"
        },
        "outputId": "b2e49e99-9b13-487d-adcd-541c462f5f50",
        "id": "1P6cyHhPIjY2"
      },
      "execution_count": null,
      "outputs": [
        {
          "output_type": "execute_result",
          "data": {
            "text/plain": [
              "(0.08105263183675786, 0.9717928216062544)"
            ]
          },
          "metadata": {},
          "execution_count": 21
        }
      ]
    },
    {
      "cell_type": "markdown",
      "source": [
        "보간법도 비슷한 결과를 보여준다 아마 이유는 이미 이미지가 전처리가 되어 있어서 보간을 해도 검은색 같은 결과를 보여주는 것 같다."
      ],
      "metadata": {
        "id": "QUE3HyOHsdm1"
      }
    },
    {
      "cell_type": "markdown",
      "source": [
        "#패딩"
      ],
      "metadata": {
        "id": "F5bTj4c3s0gx"
      }
    },
    {
      "cell_type": "code",
      "source": [
        "from torchvision import transforms\n",
        "from torchvision.transforms import InterpolationMode\n",
        "\n",
        "train_P = transforms.Compose([\n",
        "    transforms.Resize(size=232),\n",
        "    transforms.CenterCrop(size=224),\n",
        "    transforms.RandomRotation(\n",
        "        degrees=15,\n",
        "        fill=(255, 255, 255)  # R, G, B 흰색 패딩\n",
        "    ),\n",
        "    transforms.ToTensor(),\n",
        "    transforms.Normalize(mean=[0.485, 0.456, 0.406],\n",
        "                         std=[0.229, 0.224, 0.225])\n",
        "])\n"
      ],
      "metadata": {
        "id": "VPLrsZ13tPDd"
      },
      "execution_count": null,
      "outputs": []
    },
    {
      "cell_type": "code",
      "source": [
        "train_dataset = datasets.ImageFolder(root=train_data_path, transform=train_P)\n",
        "test_dataset = datasets.ImageFolder(root=test_data_path, transform=test_IN)"
      ],
      "metadata": {
        "id": "Vxu15sPatr4p"
      },
      "execution_count": null,
      "outputs": []
    },
    {
      "cell_type": "code",
      "source": [
        "import matplotlib.pyplot as plt\n",
        "from torchvision import transforms\n",
        "import numpy as np\n",
        "\n",
        "# 정규화 해제 (시각화용)\n",
        "inv_normalize = transforms.Normalize(\n",
        "    mean=[-0.485 / 0.229, -0.456 / 0.224, -0.406 / 0.225],\n",
        "    std=[1 / 0.229, 1 / 0.224, 1 / 0.225]\n",
        ")\n",
        "\n",
        "# 이미지 10장 시각화\n",
        "fig, axs = plt.subplots(2, 5, figsize=(15, 6))\n",
        "\n",
        "for i in range(10):\n",
        "    img_tensor, label = train_dataset[i]  # transform까지 적용됨\n",
        "    img_tensor = inv_normalize(img_tensor)  # 정규화 해제\n",
        "    img_np = img_tensor.permute(1, 2, 0).clamp(0, 1).numpy()  # [C,H,W] → [H,W,C]\n",
        "\n",
        "    ax = axs[i // 5][i % 5]\n",
        "    ax.imshow(img_np)\n",
        "    ax.set_title(f\"Label: {label}\")\n",
        "    ax.axis('off')\n",
        "\n",
        "plt.tight_layout()\n",
        "plt.show()\n"
      ],
      "metadata": {
        "colab": {
          "base_uri": "https://localhost:8080/",
          "height": 578
        },
        "id": "g13wcN9as2yV",
        "outputId": "4e23c2e5-55a8-4228-8e5c-19884badeaad"
      },
      "execution_count": null,
      "outputs": [
        {
          "output_type": "display_data",
          "data": {
            "text/plain": [
              "<Figure size 1500x600 with 10 Axes>"
            ],
            "image/png": "[encoded data removed]"
          },
          "metadata": {}
        }
      ]
    },
    {
      "cell_type": "code",
      "source": [
        "test_loader = DataLoader(test_dataset, batch_size=32, shuffle=True)\n",
        "train_loader = DataLoader(train_dataset, batch_size=32, shuffle=True)"
      ],
      "metadata": {
        "id": "DUFu-nU-uGtC"
      },
      "execution_count": null,
      "outputs": []
    },
    {
      "cell_type": "code",
      "source": [
        "rn50_P = resnet50(weights=ResNet50_Weights.DEFAULT)\n",
        "rn50_P.fc = nn.Sequential(nn.Linear(in_features=rn50_P.fc.in_features, out_features=5))\n",
        "for param in rn50_P.parameters():\n",
        "    param.requires_grad = False\n",
        "\n",
        "for param in rn50_P.fc.parameters():\n",
        "    param.requires_grad = True\n",
        "\n",
        "rn50_P = rn50_P.to(device)\n"
      ],
      "metadata": {
        "id": "KhAL03wnuKQh"
      },
      "execution_count": null,
      "outputs": []
    },
    {
      "cell_type": "code",
      "source": [
        "loss_fn = nn.CrossEntropyLoss()\n",
        "optim = Adam(params=rn50_P.parameters(), lr=0.001)"
      ],
      "metadata": {
        "id": "Fb9P9QQvuMRy"
      },
      "execution_count": null,
      "outputs": []
    },
    {
      "cell_type": "code",
      "source": [
        "import time\n",
        "torch.manual_seed(42)\n",
        "torch.cuda.manual_seed(42)\n",
        "\n",
        "NUM_EPOCHS = 10\n",
        "\n",
        "start_time = timer()\n",
        "\n",
        "rn_in_result = train_process(model=rn50_P,train_dataloader=train_loader,optimizer=optim,loss_fn=loss_fn,epochs=NUM_EPOCHS)\n",
        "\n",
        "end_time = timer()\n",
        "print(f\"Total Training Time: {end_time-start_time:.3f} seconds\")"
      ],
      "metadata": {
        "colab": {
          "base_uri": "https://localhost:8080/",
          "height": 249,
          "referenced_widgets": [
            "9e122b9d00ac4f9da2c89d0cfc1b7b20",
            "a552e7075319461e8f30480b6593b837",
            "ee5e65f976524a56a44f2b88f811b0b8",
            "523499e7c50b45be9623fca6197a9a39",
            "78ca032c20fe4e44bf3b33fb447c4bb0",
            "f0b0388ec8f14cdc9cb9164b8809452c",
            "7daccfb144ec4df4a905d8b02a8873d1",
            "024c0a19a8c84552a0cfbf8eb0044e46",
            "7d38e7a89def4ec5a909a98e7259426a",
            "d3a2135eeaca42be8c8cc0069412eea3",
            "d558ad8180c641fda28a20e50e6eccef"
          ]
        },
        "id": "RrRwwD5yuN9J",
        "outputId": "5f6a11ff-c094-4192-8b20-eff5a11a518a"
      },
      "execution_count": null,
      "outputs": [
        {
          "output_type": "display_data",
          "data": {
            "text/plain": [
              "  0%|          | 0/10 [00:00<?, ?it/s]"
            ],
            "application/vnd.jupyter.widget-view+json": {
              "version_major": 2,
              "version_minor": 0,
              "model_id": "9e122b9d00ac4f9da2c89d0cfc1b7b20"
            }
          },
          "metadata": {}
        },
        {
          "output_type": "stream",
          "name": "stdout",
          "text": [
            "Epoch: 1 | train_loss: 0.2213 | train_acc: 0.9500\n",
            "Epoch: 2 | train_loss: 0.0882 | train_acc: 0.9739\n",
            "Epoch: 3 | train_loss: 0.0708 | train_acc: 0.9780\n",
            "Epoch: 4 | train_loss: 0.0653 | train_acc: 0.9791\n",
            "Epoch: 5 | train_loss: 0.0573 | train_acc: 0.9813\n",
            "Epoch: 6 | train_loss: 0.0557 | train_acc: 0.9813\n",
            "Epoch: 7 | train_loss: 0.0534 | train_acc: 0.9823\n",
            "Epoch: 8 | train_loss: 0.0525 | train_acc: 0.9825\n",
            "Epoch: 9 | train_loss: 0.0493 | train_acc: 0.9839\n",
            "Epoch: 10 | train_loss: 0.0463 | train_acc: 0.9842\n",
            "Total Training Time: 1685.432 seconds\n"
          ]
        }
      ]
    },
    {
      "cell_type": "code",
      "source": [
        "test_step(model=rn50_P, dataloader=test_loader, loss_fn=loss_fn)"
      ],
      "metadata": {
        "colab": {
          "base_uri": "https://localhost:8080/"
        },
        "id": "sD8gON9duPex",
        "outputId": "4c64f007-b64d-45b4-9304-414d351abfed"
      },
      "execution_count": null,
      "outputs": [
        {
          "output_type": "execute_result",
          "data": {
            "text/plain": [
              "(0.0338098462530797, 0.9879397654584222)"
            ]
          },
          "metadata": {},
          "execution_count": 33
        }
      ]
    },
    {
      "cell_type": "markdown",
      "source": [
        "초반에는 검은색으로 패딩을 했을 때 보다 더 낮은 점수로 시작을 하지만 계속해서 훈련을 하면 모델의 성능은 비슷하다. 모델이 흰 부분은 상관 없다고  판단하는 것 같다. 결론적으론 모델의 훈련 시간 비용 적인 측면에서는 이점이 있다. 끝쪽의 색에 따라 패딩의 색을 바꿔주면 훈련의 속도가 빨라진다고 판단 할 수 있다.\n",
        "\n"
      ],
      "metadata": {
        "id": "vgvwqY8e0Ebx"
      }
    },
    {
      "cell_type": "code",
      "source": [],
      "metadata": {
        "id": "zNwNSYZgu123"
      },
      "execution_count": null,
      "outputs": []
    }
  ]
}